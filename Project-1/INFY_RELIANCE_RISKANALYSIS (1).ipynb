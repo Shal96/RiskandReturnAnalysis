{
 "cells": [
  {
   "cell_type": "markdown",
   "metadata": {},
   "source": [
    "**Introduction**\n",
    "Irrespective of what your primary area of work is, you need a basic understanding in finance .\n",
    "Risk is present virtually in every decision and it can not be completely eliminated. The objective in decision making is to minimize with proper assessment. While the meaning of risk and returns can be grasped quickly to make better financial decisions it is important to have quantitative understanding of the concepts."
   ]
  },
  {
   "cell_type": "markdown",
   "metadata": {},
   "source": [
    "**Business Understanding**\n",
    "1) How should one measure rate of return on risky assets such as equity stocks ?\n",
    "\n",
    "2) What factors determine the rates of returns in a market economy?\n",
    "\n",
    "3) What is the expected Rate of return of the stock?\n",
    "\n",
    "4) How does Risk emanates from dispersion of returns?\n",
    "\n",
    "5) How does diversification of portfolio  reduce risk?"
   ]
  },
  {
   "cell_type": "code",
   "execution_count": 3,
   "metadata": {},
   "outputs": [
    {
     "name": "stdout",
     "output_type": "stream",
     "text": [
      "Collecting selenium\n",
      "  Using cached selenium-3.141.0-py2.py3-none-any.whl (904 kB)\n",
      "Requirement already satisfied, skipping upgrade: urllib3 in c:\\users\\hp\\anaconda3\\lib\\site-packages (from selenium) (1.25.8)\n",
      "Installing collected packages: selenium\n",
      "Successfully installed selenium-3.141.0\n",
      "Note: you may need to restart the kernel to use updated packages.\n"
     ]
    }
   ],
   "source": [
    "pip install -U selenium"
   ]
  },
  {
   "cell_type": "markdown",
   "metadata": {},
   "source": [
    "**Data Gatheration and Understanding**\n",
    "\n",
    "The following sections will focus on data gatheration and cleanliness\n",
    " \n",
    "Here, I have used https://www.screener.in/ to scrape the data.\n",
    "The data is coverted in a dictionary and then saved in a pandas dataframe which i have then converted into a csv file.\n",
    "\n",
    "What this  function essentially does is moves the cursor in step size and end limit (date) provided\n",
    "\n",
    "**NOTE** Here i have stayed consistent with this https://www.screener.in/ site. Therefore the webelements have been same throughout.\n",
    "If you change the site you will have to search for specific web elements according to the site.\n",
    "**It is importanat to bear in mind while scraping that you are not violating any terms and conditions of that site**"
   ]
  },
  {
   "cell_type": "code",
   "execution_count": 56,
   "metadata": {},
   "outputs": [],
   "source": [
    "from selenium import webdriver\n",
    "from selenium.webdriver.chrome.options import Options\n",
    "from selenium.webdriver.support.ui import WebDriverWait\n",
    "from selenium.webdriver.support import expected_conditions as EC\n",
    "from selenium.webdriver.common.by import By\n",
    "import datetime as dt\n",
    "import pandas as pd\n",
    "\n",
    "%matplotlib inline\n",
    "import matplotlib.pyplot as plt\n",
    "import numpy as np"
   ]
  },
  {
   "cell_type": "code",
   "execution_count": 86,
   "metadata": {},
   "outputs": [],
   "source": [
    "def Connect_to_page(my_url):\n",
    "    \"\"\"\"\n",
    "    Arguments: url to the page you want to scarpe\n",
    "    \n",
    "    Returns: Dictionary and dataframe of the data\n",
    "    \"\"\"\"\n",
    "    option = Options()\n",
    "    option.headless = False\n",
    "    driver = webdriver.Chrome(executable_path='C:/webdrivers/chromedriver.exe')\n",
    "    # driver = webdriver.Chrome(options=option)\n",
    "    driver.get(my_url)\n",
    "    driver.maximize_window()\n",
    "\n",
    "# ACTIONS\n",
    "\n",
    "    action = webdriver.ActionChains(driver)\n",
    "    e1 = WebDriverWait(driver, 10).until(\n",
    "    EC.element_to_be_clickable((By.XPATH, \"//html/body/main/div/section[2]/div[1]/div[1]/button[7]\")))\n",
    "    action.click(e1).perform()\n",
    "\n",
    "    e = WebDriverWait(driver, 10).until(\n",
    "    EC.element_to_be_clickable((By.XPATH, \"/html/body/main/div/section[2]/div[2]/div[2]/div[2]/canvas\")))\n",
    "    location = e.location\n",
    "    size = e.size\n",
    "    print(location)\n",
    "    print(size)\n",
    "    action.move_to_element_with_offset(e, 1156, 0).perform()\n",
    "\n",
    "# Move the cursor until limit\n",
    "    Dict = {}\n",
    "    limit = dt.datetime.strptime(\"27 Feb 09\", \"%d %b %y\")\n",
    "    while True:\n",
    "        action.move_by_offset(-10, 0).perform()\n",
    "        date = driver.find_element_by_xpath(\"/html/body/main/div/section[2]/div[2]/div[2]/div[1]/div[2]/div[3]\").text\n",
    "        value = driver.find_element_by_xpath(\"/html/body/main/div/section[2]/div[2]/div[2]/div[1]/div[2]/div[1]\").text\n",
    "\n",
    "        if dt.datetime.strptime(date, \"%d %b %y\") < limit:\n",
    "            break\n",
    "\n",
    "        Dict[date] = value\n",
    "        if date in Dict:\n",
    "            pass\n",
    "        else:\n",
    "            Dict[date] = value\n",
    "\n",
    "    #print(Dict)\n",
    "    driver.quit()\n",
    "    df = pd.DataFrame.from_dict(Dict, orient='index')\n",
    "    df.columns = ['Price']\n",
    "    #df = pd.Dataframe.from_dict(list(Dict.items()),columns = ['Months','Price'] )\n",
    "    print(df)\n",
    "    df.to_csv(r'C:\\Users\\hp\\Documents\\scraped_data\\Pharma_2.csv')\n",
    "    return df, Dict\n",
    "    \n",
    "    "
   ]
  },
  {
   "cell_type": "code",
   "execution_count": null,
   "metadata": {},
   "outputs": [],
   "source": [
    "get_df, get_Dict = Connect_to_page(my_url = 'https://www.screener.in/company/INFY/consolidated/#chart')\n"
   ]
  },
  {
   "cell_type": "code",
   "execution_count": 58,
   "metadata": {},
   "outputs": [
    {
     "name": "stdout",
     "output_type": "stream",
     "text": [
      "{'x': 96, 'y': 710}\n",
      "{'height': 375, 'width': 1156}\n"
     ]
    }
   ],
   "source": [
    "get_df, get_Dict = Connect_to_page(my_url = 'https://www.screener.in/company/INFY/consolidated/#chart')\n"
   ]
  },
  {
   "cell_type": "code",
   "execution_count": 135,
   "metadata": {},
   "outputs": [
    {
     "data": {
      "text/html": [
       "<div>\n",
       "<style scoped>\n",
       "    .dataframe tbody tr th:only-of-type {\n",
       "        vertical-align: middle;\n",
       "    }\n",
       "\n",
       "    .dataframe tbody tr th {\n",
       "        vertical-align: top;\n",
       "    }\n",
       "\n",
       "    .dataframe thead th {\n",
       "        text-align: right;\n",
       "    }\n",
       "</style>\n",
       "<table border=\"1\" class=\"dataframe\">\n",
       "  <thead>\n",
       "    <tr style=\"text-align: right;\">\n",
       "      <th></th>\n",
       "      <th>Price</th>\n",
       "    </tr>\n",
       "  </thead>\n",
       "  <tbody>\n",
       "    <tr>\n",
       "      <th>21 Aug 20</th>\n",
       "      <td>957.66</td>\n",
       "    </tr>\n",
       "    <tr>\n",
       "      <th>10 Jul 20</th>\n",
       "      <td>779.28</td>\n",
       "    </tr>\n",
       "    <tr>\n",
       "      <th>22 May 20</th>\n",
       "      <td>673.32</td>\n",
       "    </tr>\n",
       "    <tr>\n",
       "      <th>27 Mar 20</th>\n",
       "      <td>603.63</td>\n",
       "    </tr>\n",
       "    <tr>\n",
       "      <th>01 Feb 20</th>\n",
       "      <td>780.33</td>\n",
       "    </tr>\n",
       "  </tbody>\n",
       "</table>\n",
       "</div>"
      ],
      "text/plain": [
       "            Price\n",
       "21 Aug 20  957.66\n",
       "10 Jul 20  779.28\n",
       "22 May 20  673.32\n",
       "27 Mar 20  603.63\n",
       "01 Feb 20  780.33"
      ]
     },
     "execution_count": 135,
     "metadata": {},
     "output_type": "execute_result"
    }
   ],
   "source": [
    "get_df.head()"
   ]
  },
  {
   "cell_type": "code",
   "execution_count": 1,
   "metadata": {},
   "outputs": [],
   "source": [
    "print(get_Dict)"
   ]
  },
  {
   "cell_type": "code",
   "execution_count": 118,
   "metadata": {},
   "outputs": [
    {
     "data": {
      "text/html": [
       "<div>\n",
       "<style scoped>\n",
       "    .dataframe tbody tr th:only-of-type {\n",
       "        vertical-align: middle;\n",
       "    }\n",
       "\n",
       "    .dataframe tbody tr th {\n",
       "        vertical-align: top;\n",
       "    }\n",
       "\n",
       "    .dataframe thead th {\n",
       "        text-align: right;\n",
       "    }\n",
       "</style>\n",
       "<table border=\"1\" class=\"dataframe\">\n",
       "  <thead>\n",
       "    <tr style=\"text-align: right;\">\n",
       "      <th></th>\n",
       "      <th>Price</th>\n",
       "    </tr>\n",
       "    <tr>\n",
       "      <th>Months</th>\n",
       "      <th></th>\n",
       "    </tr>\n",
       "  </thead>\n",
       "  <tbody>\n",
       "    <tr>\n",
       "      <th>2020-08-21</th>\n",
       "      <td>957.66</td>\n",
       "    </tr>\n",
       "    <tr>\n",
       "      <th>2020-07-10</th>\n",
       "      <td>779.28</td>\n",
       "    </tr>\n",
       "    <tr>\n",
       "      <th>2020-05-22</th>\n",
       "      <td>673.32</td>\n",
       "    </tr>\n",
       "    <tr>\n",
       "      <th>2020-03-27</th>\n",
       "      <td>603.63</td>\n",
       "    </tr>\n",
       "    <tr>\n",
       "      <th>2020-02-01</th>\n",
       "      <td>780.33</td>\n",
       "    </tr>\n",
       "    <tr>\n",
       "      <th>...</th>\n",
       "      <td>...</td>\n",
       "    </tr>\n",
       "    <tr>\n",
       "      <th>2009-11-06</th>\n",
       "      <td>275.65</td>\n",
       "    </tr>\n",
       "    <tr>\n",
       "      <th>2009-09-11</th>\n",
       "      <td>278.14</td>\n",
       "    </tr>\n",
       "    <tr>\n",
       "      <th>2009-07-24</th>\n",
       "      <td>244.92</td>\n",
       "    </tr>\n",
       "    <tr>\n",
       "      <th>2009-05-29</th>\n",
       "      <td>195.78</td>\n",
       "    </tr>\n",
       "    <tr>\n",
       "      <th>2009-04-02</th>\n",
       "      <td>169.33</td>\n",
       "    </tr>\n",
       "  </tbody>\n",
       "</table>\n",
       "<p>79 rows × 1 columns</p>\n",
       "</div>"
      ],
      "text/plain": [
       "             Price\n",
       "Months            \n",
       "2020-08-21  957.66\n",
       "2020-07-10  779.28\n",
       "2020-05-22  673.32\n",
       "2020-03-27  603.63\n",
       "2020-02-01  780.33\n",
       "...            ...\n",
       "2009-11-06  275.65\n",
       "2009-09-11  278.14\n",
       "2009-07-24  244.92\n",
       "2009-05-29  195.78\n",
       "2009-04-02  169.33\n",
       "\n",
       "[79 rows x 1 columns]"
      ]
     },
     "execution_count": 118,
     "metadata": {},
     "output_type": "execute_result"
    }
   ],
   "source": [
    "''''\n",
    "df = pd.DataFrame(list(get_Dict.items()),columns = ['Months','Price']) \n",
    "#df = pd.DataFrame(Dict,columns = ['Months','Price']) \n",
    "df['Months']=pd.to_datetime(df['Months'])\n",
    "df.set_index('Months', inplace=True)\n",
    "#df['Months'] = df[\"Months\"].dt.strftime(\"%Y\")\n",
    "df.head(100)\n",
    "''''"
   ]
  },
  {
   "cell_type": "markdown",
   "metadata": {},
   "source": [
    "**NOTE** Since running the scraping function again and again takes long I have saved the data in a CSV file and loaded it.\n",
    " To understand how the scraping function works I insist to run the cells above this. "
   ]
  },
  {
   "cell_type": "markdown",
   "metadata": {},
   "source": [
    "**Data Preparation**\n",
    "The gathered data is not consistent.\n",
    "The datatypes of the columns are diffrent and to do preprare them for analysis they need to be converted into consistent types.\n",
    "Since we will be working with years its easier the convert the months column into datetime format.We will stick to this format throughout most of the data preperation stages."
   ]
  },
  {
   "cell_type": "code",
   "execution_count": 4,
   "metadata": {
    "scrolled": true
   },
   "outputs": [
    {
     "data": {
      "text/html": [
       "<div>\n",
       "<style scoped>\n",
       "    .dataframe tbody tr th:only-of-type {\n",
       "        vertical-align: middle;\n",
       "    }\n",
       "\n",
       "    .dataframe tbody tr th {\n",
       "        vertical-align: top;\n",
       "    }\n",
       "\n",
       "    .dataframe thead th {\n",
       "        text-align: right;\n",
       "    }\n",
       "</style>\n",
       "<table border=\"1\" class=\"dataframe\">\n",
       "  <thead>\n",
       "    <tr style=\"text-align: right;\">\n",
       "      <th></th>\n",
       "      <th>Price</th>\n",
       "    </tr>\n",
       "    <tr>\n",
       "      <th>Months</th>\n",
       "      <th></th>\n",
       "    </tr>\n",
       "  </thead>\n",
       "  <tbody>\n",
       "    <tr>\n",
       "      <th>2020-08-21</th>\n",
       "      <td>957.66</td>\n",
       "    </tr>\n",
       "    <tr>\n",
       "      <th>2020-07-10</th>\n",
       "      <td>779.28</td>\n",
       "    </tr>\n",
       "    <tr>\n",
       "      <th>2020-05-22</th>\n",
       "      <td>673.32</td>\n",
       "    </tr>\n",
       "    <tr>\n",
       "      <th>2020-03-27</th>\n",
       "      <td>603.63</td>\n",
       "    </tr>\n",
       "    <tr>\n",
       "      <th>2020-02-01</th>\n",
       "      <td>780.33</td>\n",
       "    </tr>\n",
       "  </tbody>\n",
       "</table>\n",
       "</div>"
      ],
      "text/plain": [
       "             Price\n",
       "Months            \n",
       "2020-08-21  957.66\n",
       "2020-07-10  779.28\n",
       "2020-05-22  673.32\n",
       "2020-03-27  603.63\n",
       "2020-02-01  780.33"
      ]
     },
     "execution_count": 4,
     "metadata": {},
     "output_type": "execute_result"
    }
   ],
   "source": [
    "df = pd.read_csv(r\"C:\\Users\\hp\\Documents\\scraped_data\\Stock_Infy_2.csv\")\n",
    "\n",
    "df['Months']=pd.to_datetime(df['Months'])\n",
    "df.set_index('Months', inplace=True)\n",
    "#df['Months'] = df[\"Months\"].dt.strftime(\"%Y\")\n",
    "df.head()"
   ]
  },
  {
   "cell_type": "code",
   "execution_count": 5,
   "metadata": {},
   "outputs": [],
   "source": [
    "def end_prices(df):\n",
    "    \"\"\"\n",
    "    Arguments : scraped dataframe\n",
    "    \n",
    "    Returns : Prices at the end of the year\n",
    "    \"\"\"\n",
    "   \n",
    "    Ending_Prices1 = df[df.index.month.isin([12])]\n",
    "    Ending_Prices2 = df[df.index.month.isin([11])]\n",
    "    Ending_Prices = pd.DataFrame()\n",
    "    Ending_Prices = Ending_Prices.append([Ending_Prices1, Ending_Prices2])\n",
    "    #print (Ending_Prices)\n",
    "    Ending_Prices = Ending_Prices.reset_index()\n",
    "    Ending_Prices['Months'] = pd.to_datetime(Ending_Prices['Months'])\n",
    "    Ending_Prices['Months'] = Ending_Prices[\"Months\"].dt.strftime(\"%Y\")\n",
    "    Ending_Prices.sort_values(by='Months', ascending=True)\n",
    "    Ending_Prices['Months']=Ending_Prices['Months'].apply(pd.to_numeric, errors='coerce')\n",
    "    Ending_Prices['Price']=Ending_Prices['Price'].apply(pd.to_numeric, errors='coerce')\n",
    "    Ending_Prices.sort_values(\"Months\", inplace = True)\n",
    "    Ending_Prices.drop_duplicates(subset = \"Months\", inplace = True)\n",
    "    #End = End.drop(End.index[-1:])\n",
    "    \n",
    "\n",
    "    \n",
    "    return Ending_Prices"
   ]
  },
  {
   "cell_type": "code",
   "execution_count": 6,
   "metadata": {},
   "outputs": [],
   "source": [
    "def begin_prices(df):\n",
    "    \"\"\"\n",
    "    Args: scraped dataframe\n",
    "    \n",
    "    Returns: Prices at the begining of the year\n",
    "    \"\"\"\n",
    "    \n",
    "    Begining_Prices1= df[df.index.month.isin([1])]\n",
    "    Begining_Prices2= df[df.index.month.isin([2])]\n",
    "    Begining_Prices3= df[df.index.month.isin([3])]\n",
    "    Begining_Prices4= df[df.index.month.isin([4])]\n",
    "    Begining_Prices = pd.DataFrame()\n",
    "    Begining_Prices = Begining_Prices.append([Begining_Prices1,Begining_Prices2,Begining_Prices3, Begining_Prices4])\n",
    "    #Begining_Prices.to_csv(r\"C:\\Users\\hp\\Documents\\scraped_data\\Begin_data1.csv\")\n",
    "    Begining_Prices = Begining_Prices.reset_index()\n",
    "\n",
    "    Begining_Prices['Months'] = pd.to_datetime(Begining_Prices['Months'])\n",
    "    Begining_Prices['Months'] = Begining_Prices[\"Months\"].dt.strftime(\"%Y\")\n",
    "\n",
    "    Begining_Prices.sort_values(by='Months', ascending=True)\n",
    "    Begining_Prices['Months']=Begining_Prices['Months'].apply(pd.to_numeric, errors='coerce')\n",
    "    Begining_Prices['Price']=Begining_Prices['Price'].apply(pd.to_numeric, errors='coerce')\n",
    "    Begining_Prices.sort_values(\"Months\", inplace = True)\n",
    "    Begining_Prices.drop_duplicates(subset = \"Months\", inplace = True)\n",
    "    #Begin=Begin.reset_index()\n",
    "    #Begin = Begin.drop(Begin.index[-1:])\n",
    "    #print(Begining_Prices.dtypes)\n",
    "    #Begining_Prices.head()\n",
    "    \n",
    "    return Begining_Prices"
   ]
  },
  {
   "cell_type": "code",
   "execution_count": 7,
   "metadata": {
    "scrolled": true
   },
   "outputs": [
    {
     "data": {
      "text/html": [
       "<div>\n",
       "<style scoped>\n",
       "    .dataframe tbody tr th:only-of-type {\n",
       "        vertical-align: middle;\n",
       "    }\n",
       "\n",
       "    .dataframe tbody tr th {\n",
       "        vertical-align: top;\n",
       "    }\n",
       "\n",
       "    .dataframe thead th {\n",
       "        text-align: right;\n",
       "    }\n",
       "</style>\n",
       "<table border=\"1\" class=\"dataframe\">\n",
       "  <thead>\n",
       "    <tr style=\"text-align: right;\">\n",
       "      <th></th>\n",
       "      <th>Months</th>\n",
       "      <th>Price</th>\n",
       "    </tr>\n",
       "  </thead>\n",
       "  <tbody>\n",
       "    <tr>\n",
       "      <th>25</th>\n",
       "      <td>2009</td>\n",
       "      <td>169.33</td>\n",
       "    </tr>\n",
       "    <tr>\n",
       "      <th>11</th>\n",
       "      <td>2010</td>\n",
       "      <td>315.63</td>\n",
       "    </tr>\n",
       "    <tr>\n",
       "      <th>19</th>\n",
       "      <td>2011</td>\n",
       "      <td>380.25</td>\n",
       "    </tr>\n",
       "    <tr>\n",
       "      <th>18</th>\n",
       "      <td>2012</td>\n",
       "      <td>356.30</td>\n",
       "    </tr>\n",
       "    <tr>\n",
       "      <th>17</th>\n",
       "      <td>2013</td>\n",
       "      <td>357.96</td>\n",
       "    </tr>\n",
       "  </tbody>\n",
       "</table>\n",
       "</div>"
      ],
      "text/plain": [
       "    Months   Price\n",
       "25    2009  169.33\n",
       "11    2010  315.63\n",
       "19    2011  380.25\n",
       "18    2012  356.30\n",
       "17    2013  357.96"
      ]
     },
     "execution_count": 7,
     "metadata": {},
     "output_type": "execute_result"
    }
   ],
   "source": [
    "Begining_Prices_INFY =begin_prices(df)\n",
    "Begining_Prices_INFY.head()"
   ]
  },
  {
   "cell_type": "code",
   "execution_count": 8,
   "metadata": {},
   "outputs": [
    {
     "data": {
      "text/html": [
       "<div>\n",
       "<style scoped>\n",
       "    .dataframe tbody tr th:only-of-type {\n",
       "        vertical-align: middle;\n",
       "    }\n",
       "\n",
       "    .dataframe tbody tr th {\n",
       "        vertical-align: top;\n",
       "    }\n",
       "\n",
       "    .dataframe thead th {\n",
       "        text-align: right;\n",
       "    }\n",
       "</style>\n",
       "<table border=\"1\" class=\"dataframe\">\n",
       "  <thead>\n",
       "    <tr style=\"text-align: right;\">\n",
       "      <th></th>\n",
       "      <th>Months</th>\n",
       "      <th>Price</th>\n",
       "    </tr>\n",
       "  </thead>\n",
       "  <tbody>\n",
       "    <tr>\n",
       "      <th>3</th>\n",
       "      <td>2009</td>\n",
       "      <td>323.26</td>\n",
       "    </tr>\n",
       "    <tr>\n",
       "      <th>10</th>\n",
       "      <td>2010</td>\n",
       "      <td>380.28</td>\n",
       "    </tr>\n",
       "    <tr>\n",
       "      <th>9</th>\n",
       "      <td>2011</td>\n",
       "      <td>332.82</td>\n",
       "    </tr>\n",
       "    <tr>\n",
       "      <th>8</th>\n",
       "      <td>2012</td>\n",
       "      <td>305.32</td>\n",
       "    </tr>\n",
       "    <tr>\n",
       "      <th>2</th>\n",
       "      <td>2013</td>\n",
       "      <td>420.55</td>\n",
       "    </tr>\n",
       "  </tbody>\n",
       "</table>\n",
       "</div>"
      ],
      "text/plain": [
       "    Months   Price\n",
       "3     2009  323.26\n",
       "10    2010  380.28\n",
       "9     2011  332.82\n",
       "8     2012  305.32\n",
       "2     2013  420.55"
      ]
     },
     "execution_count": 8,
     "metadata": {},
     "output_type": "execute_result"
    }
   ],
   "source": [
    "Ending_Prices_INFY =end_prices(df)\n",
    "Ending_Prices_INFY.head()"
   ]
  },
  {
   "cell_type": "markdown",
   "metadata": {},
   "source": [
    "**How to work with dividend values**\n",
    "Here again the scraped data was very inconsistent. Thus I have saved in to a csv file for easy analysis."
   ]
  },
  {
   "cell_type": "code",
   "execution_count": 137,
   "metadata": {},
   "outputs": [],
   "source": [
    "def Dividends(my_url):\n",
    "    \"\"\"\n",
    "    Args: url to scrape Dividend values \n",
    "    Returns: dataframe, dictionary\n",
    "    \"\"\"\n",
    "    \n",
    "    #my_url = 'https://www.screener.in/company/RELIANCE/consolidated/#chart'\n",
    "    option = Options()\n",
    "    option.headless = False\n",
    "    driver = webdriver.Chrome(executable_path='C:/webdrivers/chromedriver.exe')\n",
    "    driver = webdriver.Chrome(options=option)\n",
    "    driver.get(my_url)\n",
    "    driver.maximize_window()\n",
    "    action = webdriver.ActionChains(driver)\n",
    "    e1 = WebDriverWait(driver, 10).until(EC.element_to_be_clickable((By.XPATH, \"/html/body/main/div/nav[2]/div/a[6]\")))\n",
    "    action.click(e1).perform()\n",
    "\n",
    "    e2 = WebDriverWait(driver, 10).until(EC.element_to_be_clickable((By.XPATH,\n",
    "                                                        \"/html/body/main/div/section[6]/div[3]/table/tbody/tr[12]\")))\n",
    "    element_text = e2.text\n",
    "    #element_attribute_value = e2.get_attribute('value')\n",
    "\n",
    "    #print(e2)\n",
    "\n",
    "    divs= 'e2.text: {0}'.format(element_text)\n",
    "    print (divs)\n",
    "    #print('e2.get_attribute(\\'value\\'): {0}'.format(element_attribute_value))\n",
    "\n",
    "    #Get months corresponding to dividend values\n",
    "    e3 = WebDriverWait(driver, 10).until(EC.element_to_be_clickable(\n",
    "    (By.XPATH, \"/html/body/main/div/section[6]/div[3]/table/thead/tr\")))\n",
    "    element1_text = e3.text\n",
    "    #element1_attribute_value = e3.get_attribute('value')\n",
    "\n",
    "#print(e3)\n",
    "\n",
    "    dates ='e3.text: {0}'.format(element1_text)\n",
    "    print(dates)\n",
    "    #print('e3.get_attribute(\\'value\\'): {0}'.format(element1_attribute_value))\n",
    "\n",
    "    driver.quit()\n",
    "    class my_dictionary(dict):\n",
    "        # __init__ functio\n",
    "        def __init__(self):\n",
    "            self = dict()\n",
    "\n",
    "        # Function to add key:value\n",
    "\n",
    "        def add(self, key, value):\n",
    "            self[key] = value\n",
    "\n",
    "    dict_obj = my_dictionary()\n",
    "    dict_obj.key = dates\n",
    "    dict_obj.value = divs\n",
    "    dict_obj.add(dict_obj.key, dict_obj.value)\n",
    "    #print(dict_obj)\n",
    "    df = pd.DataFrame.from_dict(dict_obj, orient='index')\n",
    "    #print(df)\n",
    "    return df, dict_obj\n"
   ]
  },
  {
   "cell_type": "code",
   "execution_count": 138,
   "metadata": {},
   "outputs": [
    {
     "name": "stdout",
     "output_type": "stream",
     "text": [
      "e2.text: Dividend Payout % 22% 23% 50% 32% 25% 34% 55% 41% 41% 59% 60% 45%\n",
      "e3.text: Mar 2009 Mar 2010 Mar 2011 Mar 2012 Mar 2013 Mar 2014 Mar 2015 Mar 2016 Mar 2017 Mar 2018 Mar 2019 Mar 2020 TTM\n"
     ]
    }
   ],
   "source": [
    "get_INFY_df, get_INFY_dict_obj = Dividends('https://www.screener.in/company/INFY/consolidated/#chart')"
   ]
  },
  {
   "cell_type": "code",
   "execution_count": 139,
   "metadata": {},
   "outputs": [],
   "source": [
    "get_INFY_df.to_csv(r'C:\\Users\\hp\\Documents\\scraped_data\\table_scrape2.csv')"
   ]
  },
  {
   "cell_type": "markdown",
   "metadata": {},
   "source": [
    "**NOTE** Since running the scraping function again and again takes long I have saved the data in a CSV file and loaded it.\n",
    " To understand how the scraping function works I insist to run the cells above this."
   ]
  },
  {
   "cell_type": "code",
   "execution_count": 9,
   "metadata": {},
   "outputs": [
    {
     "data": {
      "text/html": [
       "<div>\n",
       "<style scoped>\n",
       "    .dataframe tbody tr th:only-of-type {\n",
       "        vertical-align: middle;\n",
       "    }\n",
       "\n",
       "    .dataframe tbody tr th {\n",
       "        vertical-align: top;\n",
       "    }\n",
       "\n",
       "    .dataframe thead th {\n",
       "        text-align: right;\n",
       "    }\n",
       "</style>\n",
       "<table border=\"1\" class=\"dataframe\">\n",
       "  <thead>\n",
       "    <tr style=\"text-align: right;\">\n",
       "      <th></th>\n",
       "      <th>Months</th>\n",
       "      <th>Dividend_Payout %</th>\n",
       "    </tr>\n",
       "  </thead>\n",
       "  <tbody>\n",
       "    <tr>\n",
       "      <th>0</th>\n",
       "      <td>01-03-2009</td>\n",
       "      <td>22%</td>\n",
       "    </tr>\n",
       "    <tr>\n",
       "      <th>1</th>\n",
       "      <td>Mar 2010</td>\n",
       "      <td>23%</td>\n",
       "    </tr>\n",
       "    <tr>\n",
       "      <th>2</th>\n",
       "      <td>01-03-2011</td>\n",
       "      <td>50%</td>\n",
       "    </tr>\n",
       "    <tr>\n",
       "      <th>3</th>\n",
       "      <td>01-03-2012</td>\n",
       "      <td>32%</td>\n",
       "    </tr>\n",
       "    <tr>\n",
       "      <th>4</th>\n",
       "      <td>Mar 2013</td>\n",
       "      <td>25%</td>\n",
       "    </tr>\n",
       "  </tbody>\n",
       "</table>\n",
       "</div>"
      ],
      "text/plain": [
       "       Months Dividend_Payout %\n",
       "0  01-03-2009               22%\n",
       "1    Mar 2010               23%\n",
       "2  01-03-2011               50%\n",
       "3  01-03-2012               32%\n",
       "4    Mar 2013               25%"
      ]
     },
     "execution_count": 9,
     "metadata": {},
     "output_type": "execute_result"
    }
   ],
   "source": [
    "Dividend = pd.read_csv(r\"C:\\Users\\hp\\Documents\\scraped_data\\table_scrape2.csv\")\n",
    "Dividend.head()"
   ]
  },
  {
   "cell_type": "markdown",
   "metadata": {},
   "source": [
    "**We want to deal with years instead of months heneceforth since we have got the ending and begining values of the years from above cells.\n"
   ]
  },
  {
   "cell_type": "code",
   "execution_count": 10,
   "metadata": {},
   "outputs": [],
   "source": [
    "def dividend_calc(df):\n",
    "    df['Months'] = pd.to_datetime(df['Months'])\n",
    "    df['Months'] = df[\"Months\"].dt.strftime(\"%Y\")\n",
    "    #Dividend = Dividend.drop(Dividend.index[0:5])\n",
    "    #Dividend = Dividend.drop(Dividend.index[-2:])\n",
    "    df['Dividend_Payout %'] = df['Dividend_Payout %'].map(lambda x: x.rstrip('%'))\n",
    "    df=df.apply(pd.to_numeric, errors='coerce')\n",
    "    #print(df)\n",
    "    #Dividend=Dividend.reset_index()\n",
    "    #print(df.dtypes)\n",
    "    return df"
   ]
  },
  {
   "cell_type": "markdown",
   "metadata": {},
   "source": [
    "**We want the dividend values in terms of prices(rupees) instead of percentages so we need to convert them accordingly**"
   ]
  },
  {
   "cell_type": "code",
   "execution_count": 11,
   "metadata": {},
   "outputs": [
    {
     "data": {
      "text/html": [
       "<div>\n",
       "<style scoped>\n",
       "    .dataframe tbody tr th:only-of-type {\n",
       "        vertical-align: middle;\n",
       "    }\n",
       "\n",
       "    .dataframe tbody tr th {\n",
       "        vertical-align: top;\n",
       "    }\n",
       "\n",
       "    .dataframe thead th {\n",
       "        text-align: right;\n",
       "    }\n",
       "</style>\n",
       "<table border=\"1\" class=\"dataframe\">\n",
       "  <thead>\n",
       "    <tr style=\"text-align: right;\">\n",
       "      <th></th>\n",
       "      <th>Months</th>\n",
       "      <th>Dividend_Payout %</th>\n",
       "    </tr>\n",
       "  </thead>\n",
       "  <tbody>\n",
       "    <tr>\n",
       "      <th>0</th>\n",
       "      <td>2009</td>\n",
       "      <td>1.10</td>\n",
       "    </tr>\n",
       "    <tr>\n",
       "      <th>1</th>\n",
       "      <td>2010</td>\n",
       "      <td>1.15</td>\n",
       "    </tr>\n",
       "    <tr>\n",
       "      <th>2</th>\n",
       "      <td>2011</td>\n",
       "      <td>2.50</td>\n",
       "    </tr>\n",
       "    <tr>\n",
       "      <th>3</th>\n",
       "      <td>2012</td>\n",
       "      <td>1.60</td>\n",
       "    </tr>\n",
       "    <tr>\n",
       "      <th>4</th>\n",
       "      <td>2013</td>\n",
       "      <td>1.25</td>\n",
       "    </tr>\n",
       "    <tr>\n",
       "      <th>5</th>\n",
       "      <td>2014</td>\n",
       "      <td>1.70</td>\n",
       "    </tr>\n",
       "    <tr>\n",
       "      <th>6</th>\n",
       "      <td>2015</td>\n",
       "      <td>2.75</td>\n",
       "    </tr>\n",
       "    <tr>\n",
       "      <th>7</th>\n",
       "      <td>2016</td>\n",
       "      <td>2.05</td>\n",
       "    </tr>\n",
       "    <tr>\n",
       "      <th>8</th>\n",
       "      <td>2017</td>\n",
       "      <td>2.05</td>\n",
       "    </tr>\n",
       "    <tr>\n",
       "      <th>9</th>\n",
       "      <td>2018</td>\n",
       "      <td>2.95</td>\n",
       "    </tr>\n",
       "    <tr>\n",
       "      <th>10</th>\n",
       "      <td>2019</td>\n",
       "      <td>3.00</td>\n",
       "    </tr>\n",
       "    <tr>\n",
       "      <th>11</th>\n",
       "      <td>2020</td>\n",
       "      <td>2.25</td>\n",
       "    </tr>\n",
       "  </tbody>\n",
       "</table>\n",
       "</div>"
      ],
      "text/plain": [
       "    Months  Dividend_Payout %\n",
       "0     2009               1.10\n",
       "1     2010               1.15\n",
       "2     2011               2.50\n",
       "3     2012               1.60\n",
       "4     2013               1.25\n",
       "5     2014               1.70\n",
       "6     2015               2.75\n",
       "7     2016               2.05\n",
       "8     2017               2.05\n",
       "9     2018               2.95\n",
       "10    2019               3.00\n",
       "11    2020               2.25"
      ]
     },
     "execution_count": 11,
     "metadata": {},
     "output_type": "execute_result"
    }
   ],
   "source": [
    "Dividend_Infy = dividend_calc(Dividend)\n",
    "Dividend_Infy['Dividend_Payout %'].apply(pd.to_numeric, errors='coerce')\n",
    "Dividend_Infy['Dividend_Payout %']= Dividend_Infy['Dividend_Payout %']/100\n",
    "Dividend_Infy['Dividend_Payout %']= Dividend_Infy['Dividend_Payout %']*5\n",
    "#Dividend_Infy.head()\n",
    "Dividend_Infy.head(100)"
   ]
  },
  {
   "cell_type": "code",
   "execution_count": 12,
   "metadata": {},
   "outputs": [
    {
     "data": {
      "text/plain": [
       "array([2009, 2010, 2011, 2012, 2013, 2014, 2015, 2016, 2017, 2018, 2019],\n",
       "      dtype=int64)"
      ]
     },
     "execution_count": 12,
     "metadata": {},
     "output_type": "execute_result"
    }
   ],
   "source": [
    "# So we can calculate RORS for following Years\n",
    "import numpy as np\n",
    "\n",
    "np.intersect1d(Dividend_Infy.Months, np.intersect1d(Ending_Prices_INFY.Months, Begining_Prices_INFY.Months))\n"
   ]
  },
  {
   "cell_type": "code",
   "execution_count": 13,
   "metadata": {},
   "outputs": [
    {
     "data": {
      "text/html": [
       "<div>\n",
       "<style scoped>\n",
       "    .dataframe tbody tr th:only-of-type {\n",
       "        vertical-align: middle;\n",
       "    }\n",
       "\n",
       "    .dataframe tbody tr th {\n",
       "        vertical-align: top;\n",
       "    }\n",
       "\n",
       "    .dataframe thead th {\n",
       "        text-align: right;\n",
       "    }\n",
       "</style>\n",
       "<table border=\"1\" class=\"dataframe\">\n",
       "  <thead>\n",
       "    <tr style=\"text-align: right;\">\n",
       "      <th></th>\n",
       "      <th>Months</th>\n",
       "      <th>Price_x</th>\n",
       "      <th>Price_y</th>\n",
       "    </tr>\n",
       "  </thead>\n",
       "  <tbody>\n",
       "    <tr>\n",
       "      <th>0</th>\n",
       "      <td>2009</td>\n",
       "      <td>323.26</td>\n",
       "      <td>169.33</td>\n",
       "    </tr>\n",
       "    <tr>\n",
       "      <th>1</th>\n",
       "      <td>2010</td>\n",
       "      <td>380.28</td>\n",
       "      <td>315.63</td>\n",
       "    </tr>\n",
       "    <tr>\n",
       "      <th>2</th>\n",
       "      <td>2011</td>\n",
       "      <td>332.82</td>\n",
       "      <td>380.25</td>\n",
       "    </tr>\n",
       "    <tr>\n",
       "      <th>3</th>\n",
       "      <td>2012</td>\n",
       "      <td>305.32</td>\n",
       "      <td>356.30</td>\n",
       "    </tr>\n",
       "    <tr>\n",
       "      <th>4</th>\n",
       "      <td>2013</td>\n",
       "      <td>420.55</td>\n",
       "      <td>357.96</td>\n",
       "    </tr>\n",
       "    <tr>\n",
       "      <th>5</th>\n",
       "      <td>2014</td>\n",
       "      <td>488.30</td>\n",
       "      <td>463.27</td>\n",
       "    </tr>\n",
       "    <tr>\n",
       "      <th>6</th>\n",
       "      <td>2015</td>\n",
       "      <td>567.47</td>\n",
       "      <td>551.69</td>\n",
       "    </tr>\n",
       "    <tr>\n",
       "      <th>7</th>\n",
       "      <td>2016</td>\n",
       "      <td>477.98</td>\n",
       "      <td>551.94</td>\n",
       "    </tr>\n",
       "    <tr>\n",
       "      <th>8</th>\n",
       "      <td>2017</td>\n",
       "      <td>489.39</td>\n",
       "      <td>510.45</td>\n",
       "    </tr>\n",
       "    <tr>\n",
       "      <th>9</th>\n",
       "      <td>2018</td>\n",
       "      <td>651.05</td>\n",
       "      <td>577.14</td>\n",
       "    </tr>\n",
       "    <tr>\n",
       "      <th>10</th>\n",
       "      <td>2019</td>\n",
       "      <td>713.25</td>\n",
       "      <td>736.87</td>\n",
       "    </tr>\n",
       "  </tbody>\n",
       "</table>\n",
       "</div>"
      ],
      "text/plain": [
       "    Months  Price_x  Price_y\n",
       "0     2009   323.26   169.33\n",
       "1     2010   380.28   315.63\n",
       "2     2011   332.82   380.25\n",
       "3     2012   305.32   356.30\n",
       "4     2013   420.55   357.96\n",
       "5     2014   488.30   463.27\n",
       "6     2015   567.47   551.69\n",
       "7     2016   477.98   551.94\n",
       "8     2017   489.39   510.45\n",
       "9     2018   651.05   577.14\n",
       "10    2019   713.25   736.87"
      ]
     },
     "execution_count": 13,
     "metadata": {},
     "output_type": "execute_result"
    }
   ],
   "source": [
    "Ending_Prices_INFY =Ending_Prices_INFY.drop_duplicates()\n",
    "Begining_Prices_INFY =Begining_Prices_INFY.drop_duplicates()\n",
    "Final = pd.merge(Ending_Prices_INFY, Begining_Prices_INFY, on=\"Months\", how ='inner')\n",
    "Final = Final.dropna()\n",
    "Final.head(100)"
   ]
  },
  {
   "cell_type": "code",
   "execution_count": 14,
   "metadata": {},
   "outputs": [
    {
     "data": {
      "text/html": [
       "<div>\n",
       "<style scoped>\n",
       "    .dataframe tbody tr th:only-of-type {\n",
       "        vertical-align: middle;\n",
       "    }\n",
       "\n",
       "    .dataframe tbody tr th {\n",
       "        vertical-align: top;\n",
       "    }\n",
       "\n",
       "    .dataframe thead th {\n",
       "        text-align: right;\n",
       "    }\n",
       "</style>\n",
       "<table border=\"1\" class=\"dataframe\">\n",
       "  <thead>\n",
       "    <tr style=\"text-align: right;\">\n",
       "      <th></th>\n",
       "      <th>Months</th>\n",
       "      <th>End</th>\n",
       "      <th>Begin</th>\n",
       "    </tr>\n",
       "  </thead>\n",
       "  <tbody>\n",
       "    <tr>\n",
       "      <th>0</th>\n",
       "      <td>2009</td>\n",
       "      <td>323.26</td>\n",
       "      <td>169.33</td>\n",
       "    </tr>\n",
       "    <tr>\n",
       "      <th>1</th>\n",
       "      <td>2010</td>\n",
       "      <td>380.28</td>\n",
       "      <td>315.63</td>\n",
       "    </tr>\n",
       "    <tr>\n",
       "      <th>2</th>\n",
       "      <td>2011</td>\n",
       "      <td>332.82</td>\n",
       "      <td>380.25</td>\n",
       "    </tr>\n",
       "    <tr>\n",
       "      <th>3</th>\n",
       "      <td>2012</td>\n",
       "      <td>305.32</td>\n",
       "      <td>356.30</td>\n",
       "    </tr>\n",
       "    <tr>\n",
       "      <th>4</th>\n",
       "      <td>2013</td>\n",
       "      <td>420.55</td>\n",
       "      <td>357.96</td>\n",
       "    </tr>\n",
       "    <tr>\n",
       "      <th>5</th>\n",
       "      <td>2014</td>\n",
       "      <td>488.30</td>\n",
       "      <td>463.27</td>\n",
       "    </tr>\n",
       "    <tr>\n",
       "      <th>6</th>\n",
       "      <td>2015</td>\n",
       "      <td>567.47</td>\n",
       "      <td>551.69</td>\n",
       "    </tr>\n",
       "    <tr>\n",
       "      <th>7</th>\n",
       "      <td>2016</td>\n",
       "      <td>477.98</td>\n",
       "      <td>551.94</td>\n",
       "    </tr>\n",
       "    <tr>\n",
       "      <th>8</th>\n",
       "      <td>2017</td>\n",
       "      <td>489.39</td>\n",
       "      <td>510.45</td>\n",
       "    </tr>\n",
       "    <tr>\n",
       "      <th>9</th>\n",
       "      <td>2018</td>\n",
       "      <td>651.05</td>\n",
       "      <td>577.14</td>\n",
       "    </tr>\n",
       "    <tr>\n",
       "      <th>10</th>\n",
       "      <td>2019</td>\n",
       "      <td>713.25</td>\n",
       "      <td>736.87</td>\n",
       "    </tr>\n",
       "  </tbody>\n",
       "</table>\n",
       "</div>"
      ],
      "text/plain": [
       "    Months     End   Begin\n",
       "0     2009  323.26  169.33\n",
       "1     2010  380.28  315.63\n",
       "2     2011  332.82  380.25\n",
       "3     2012  305.32  356.30\n",
       "4     2013  420.55  357.96\n",
       "5     2014  488.30  463.27\n",
       "6     2015  567.47  551.69\n",
       "7     2016  477.98  551.94\n",
       "8     2017  489.39  510.45\n",
       "9     2018  651.05  577.14\n",
       "10    2019  713.25  736.87"
      ]
     },
     "execution_count": 14,
     "metadata": {},
     "output_type": "execute_result"
    }
   ],
   "source": [
    "Final = Final.rename(columns={\"Price_y\": \"Begin\", \"Price_x\": \"End\"})\n",
    "Final.head(11)"
   ]
  },
  {
   "cell_type": "code",
   "execution_count": 15,
   "metadata": {},
   "outputs": [],
   "source": [
    "#Dividend_Infy= Dividend_Infy.drop(Dividend_Infy.index[[0,1,2,6,7,8,11]])\n",
    "#Dividend_Infy['Dividend_Payout %']=Dividend_Infy['Dividend_Payout %'].apply(pd.to_numeric, errors='coerce')\n",
    "#Dividend_Infy.head(20)"
   ]
  },
  {
   "cell_type": "code",
   "execution_count": 16,
   "metadata": {},
   "outputs": [
    {
     "name": "stdout",
     "output_type": "stream",
     "text": [
      "    Years     End   Begin  Dividend_Payout(Rs)\n",
      "0    2009  323.26  169.33                 1.10\n",
      "1    2010  380.28  315.63                 1.15\n",
      "2    2011  332.82  380.25                 2.50\n",
      "3    2012  305.32  356.30                 1.60\n",
      "4    2013  420.55  357.96                 1.25\n",
      "5    2014  488.30  463.27                 1.70\n",
      "6    2015  567.47  551.69                 2.75\n",
      "7    2016  477.98  551.94                 2.05\n",
      "8    2017  489.39  510.45                 2.05\n",
      "9    2018  651.05  577.14                 2.95\n",
      "10   2019  713.25  736.87                 3.00\n"
     ]
    }
   ],
   "source": [
    "Final_1 = pd.merge(Final, Dividend_Infy, on ='Months')\n",
    "Final_1 = Final_1.rename(columns={\"Dividend_Payout %\": \"Dividend_Payout(Rs)\", \"Months\": \"Years\"})\n",
    "print(Final_1)"
   ]
  },
  {
   "cell_type": "markdown",
   "metadata": {},
   "source": [
    "**Data Modeling:\n",
    "\n",
    "Now we have clean and prepared the data set to calculate Rate of Returns expected Rate of Returns and Standarad deviation(Risk)\n",
    "for the stocks.\n",
    "\n",
    "**Rate of Return is calculated as Dividend/Beginin prices + (Ending Prices -  Begining Prices)/ Begining Prices\n",
    "\n",
    "**Expected Rate of Return(%) is calculated ad weighted average of all possible Return multiplied by their Respective probabilities.\n",
    "\n",
    "**Variance is calculated as squared difference of Returns and Expected Rate of return multiplied by the respctive probabilities\n",
    "\n",
    "**Standard Deviation is calculated the square root of the sumation of all the variances."
   ]
  },
  {
   "cell_type": "code",
   "execution_count": 17,
   "metadata": {},
   "outputs": [],
   "source": [
    "def calculate_ROR(df):\n",
    "    # CALCULATE ROR, EROR, SD\n",
    "    Current_yield = df['Dividend_Payout(Rs)'].to_numpy()/(df['Begin'].to_numpy())\n",
    "#Current_yield = Dividend.to_numpy()/Begin.to_numpy()\n",
    "    print(\"Current_yield:\",Current_yield)\n",
    "#Capital gain\n",
    "    Sub = df['End'].to_numpy()-df['Begin'].to_numpy()\n",
    "#print(Sub)\n",
    "    Capital_gain =Sub/df['Begin'].to_numpy()\n",
    "    print(\"Capital Gain:\",Capital_gain)\n",
    "#ROR\n",
    "    Rate_of_Return =(Current_yield) + (Capital_gain)\n",
    "    #print(\"Rate of Return :\", Rate_of_Return)\n",
    "    ROR = pd.DataFrame(Rate_of_Return, columns =['Returns'])\n",
    "    print(ROR)\n",
    "    return Current_yield, Capital_gain, ROR"
   ]
  },
  {
   "cell_type": "code",
   "execution_count": 18,
   "metadata": {},
   "outputs": [
    {
     "name": "stdout",
     "output_type": "stream",
     "text": [
      "Current_yield: [0.00649619 0.00364351 0.00657462 0.0044906  0.00349201 0.00366957\n",
      " 0.00498468 0.00371417 0.00401606 0.00511141 0.00407127]\n",
      "Capital Gain: [ 0.90905333  0.20482844 -0.12473373 -0.14308167  0.17485194  0.05402897\n",
      "  0.02860302 -0.13400007 -0.04125771  0.12806252 -0.0320545 ]\n",
      "     Returns\n",
      "0   0.915550\n",
      "1   0.208472\n",
      "2  -0.118159\n",
      "3  -0.138591\n",
      "4   0.178344\n",
      "5   0.057699\n",
      "6   0.033588\n",
      "7  -0.130286\n",
      "8  -0.037242\n",
      "9   0.133174\n",
      "10 -0.027983\n"
     ]
    }
   ],
   "source": [
    "current_field, capital_gain, ROR_INFY = calculate_ROR(Final_1)"
   ]
  },
  {
   "cell_type": "code",
   "execution_count": 66,
   "metadata": {},
   "outputs": [
    {
     "name": "stdout",
     "output_type": "stream",
     "text": [
      "[0.9155495186913126, 0.20847194499889105, -0.11815910585141357, -0.138591074936851, 0.1783439490445861, 0.057698534332031065, 0.033587703239137866, -0.13028590064137413, -0.03724164952492899, 0.133173926603597, -0.027983226349288213]\n"
     ]
    }
   ],
   "source": [
    "RORS = list(ROR_INFY['Returns'])\n",
    "print(RORS)"
   ]
  },
  {
   "cell_type": "markdown",
   "metadata": {},
   "source": [
    "**The following csv file consists of probability of occurances corresponding to years from 1963 to 2019. \n",
    "Assumption has been made here that if the GDP > 5.2 the state of economy is in Boom and probability is 0.25\n",
    "\n",
    "**I have downloaded the GDP data from World Bank site and contrained the location to India only**"
   ]
  },
  {
   "cell_type": "code",
   "execution_count": 20,
   "metadata": {
    "scrolled": true
   },
   "outputs": [
    {
     "data": {
      "text/html": [
       "<div>\n",
       "<style scoped>\n",
       "    .dataframe tbody tr th:only-of-type {\n",
       "        vertical-align: middle;\n",
       "    }\n",
       "\n",
       "    .dataframe tbody tr th {\n",
       "        vertical-align: top;\n",
       "    }\n",
       "\n",
       "    .dataframe thead th {\n",
       "        text-align: right;\n",
       "    }\n",
       "</style>\n",
       "<table border=\"1\" class=\"dataframe\">\n",
       "  <thead>\n",
       "    <tr style=\"text-align: right;\">\n",
       "      <th></th>\n",
       "      <th>Year</th>\n",
       "      <th>GDP</th>\n",
       "      <th>BOOM</th>\n",
       "      <th>NORMAL</th>\n",
       "      <th>RECN</th>\n",
       "      <th>CNT</th>\n",
       "      <th>CNT</th>\n",
       "      <th>CNT .1</th>\n",
       "    </tr>\n",
       "  </thead>\n",
       "  <tbody>\n",
       "    <tr>\n",
       "      <th>0</th>\n",
       "      <td>NaN</td>\n",
       "      <td>NaN</td>\n",
       "      <td>NaN</td>\n",
       "      <td>NaN</td>\n",
       "      <td>NaN</td>\n",
       "      <td>BOOM</td>\n",
       "      <td>NORMAL</td>\n",
       "      <td>RECN</td>\n",
       "    </tr>\n",
       "    <tr>\n",
       "      <th>1</th>\n",
       "      <td>1963</td>\n",
       "      <td>3.84</td>\n",
       "      <td>-</td>\n",
       "      <td>-</td>\n",
       "      <td>3.84</td>\n",
       "      <td>-</td>\n",
       "      <td>0</td>\n",
       "      <td>1.00</td>\n",
       "    </tr>\n",
       "    <tr>\n",
       "      <th>2</th>\n",
       "      <td>1964</td>\n",
       "      <td>5.25</td>\n",
       "      <td>-</td>\n",
       "      <td>5.25</td>\n",
       "      <td>-</td>\n",
       "      <td>-</td>\n",
       "      <td>1</td>\n",
       "      <td>-</td>\n",
       "    </tr>\n",
       "    <tr>\n",
       "      <th>3</th>\n",
       "      <td>1965</td>\n",
       "      <td>-4.64</td>\n",
       "      <td>-</td>\n",
       "      <td>-</td>\n",
       "      <td>-4.64</td>\n",
       "      <td>-</td>\n",
       "      <td>0</td>\n",
       "      <td>1.00</td>\n",
       "    </tr>\n",
       "    <tr>\n",
       "      <th>4</th>\n",
       "      <td>1966</td>\n",
       "      <td>-2.12</td>\n",
       "      <td>-</td>\n",
       "      <td>-</td>\n",
       "      <td>-2.12</td>\n",
       "      <td>-</td>\n",
       "      <td>0</td>\n",
       "      <td>1.00</td>\n",
       "    </tr>\n",
       "    <tr>\n",
       "      <th>5</th>\n",
       "      <td>1967</td>\n",
       "      <td>5.59</td>\n",
       "      <td>-</td>\n",
       "      <td>5.59</td>\n",
       "      <td>-</td>\n",
       "      <td>-</td>\n",
       "      <td>1</td>\n",
       "      <td>-</td>\n",
       "    </tr>\n",
       "    <tr>\n",
       "      <th>6</th>\n",
       "      <td>1968</td>\n",
       "      <td>1.23</td>\n",
       "      <td>-</td>\n",
       "      <td>-</td>\n",
       "      <td>1.23</td>\n",
       "      <td>-</td>\n",
       "      <td>0</td>\n",
       "      <td>1.00</td>\n",
       "    </tr>\n",
       "    <tr>\n",
       "      <th>7</th>\n",
       "      <td>1969</td>\n",
       "      <td>4.27</td>\n",
       "      <td>-</td>\n",
       "      <td>-</td>\n",
       "      <td>4.27</td>\n",
       "      <td>-</td>\n",
       "      <td>0</td>\n",
       "      <td>1.00</td>\n",
       "    </tr>\n",
       "    <tr>\n",
       "      <th>8</th>\n",
       "      <td>1970</td>\n",
       "      <td>2.86</td>\n",
       "      <td>-</td>\n",
       "      <td>-</td>\n",
       "      <td>2.86</td>\n",
       "      <td>-</td>\n",
       "      <td>0</td>\n",
       "      <td>1.00</td>\n",
       "    </tr>\n",
       "    <tr>\n",
       "      <th>9</th>\n",
       "      <td>1971</td>\n",
       "      <td>-0.63</td>\n",
       "      <td>-</td>\n",
       "      <td>-</td>\n",
       "      <td>-0.63</td>\n",
       "      <td>-</td>\n",
       "      <td>0</td>\n",
       "      <td>1.00</td>\n",
       "    </tr>\n",
       "    <tr>\n",
       "      <th>10</th>\n",
       "      <td>1972</td>\n",
       "      <td>-2.82</td>\n",
       "      <td>-</td>\n",
       "      <td>-</td>\n",
       "      <td>-2.82</td>\n",
       "      <td>-</td>\n",
       "      <td>0</td>\n",
       "      <td>1.00</td>\n",
       "    </tr>\n",
       "    <tr>\n",
       "      <th>11</th>\n",
       "      <td>1973</td>\n",
       "      <td>0.92</td>\n",
       "      <td>-</td>\n",
       "      <td>-</td>\n",
       "      <td>0.92</td>\n",
       "      <td>-</td>\n",
       "      <td>0</td>\n",
       "      <td>1.00</td>\n",
       "    </tr>\n",
       "    <tr>\n",
       "      <th>12</th>\n",
       "      <td>1974</td>\n",
       "      <td>-1.15</td>\n",
       "      <td>-</td>\n",
       "      <td>-</td>\n",
       "      <td>-1.15</td>\n",
       "      <td>-</td>\n",
       "      <td>0</td>\n",
       "      <td>1.00</td>\n",
       "    </tr>\n",
       "    <tr>\n",
       "      <th>13</th>\n",
       "      <td>1975</td>\n",
       "      <td>6.64</td>\n",
       "      <td>6.64</td>\n",
       "      <td>-</td>\n",
       "      <td>-</td>\n",
       "      <td>1.00</td>\n",
       "      <td>0</td>\n",
       "      <td>-</td>\n",
       "    </tr>\n",
       "    <tr>\n",
       "      <th>14</th>\n",
       "      <td>1976</td>\n",
       "      <td>-0.65</td>\n",
       "      <td>-</td>\n",
       "      <td>-</td>\n",
       "      <td>-0.65</td>\n",
       "      <td>-</td>\n",
       "      <td>0</td>\n",
       "      <td>1.00</td>\n",
       "    </tr>\n",
       "    <tr>\n",
       "      <th>15</th>\n",
       "      <td>1977</td>\n",
       "      <td>4.83</td>\n",
       "      <td>-</td>\n",
       "      <td>4.83</td>\n",
       "      <td>-</td>\n",
       "      <td>-</td>\n",
       "      <td>1</td>\n",
       "      <td>-</td>\n",
       "    </tr>\n",
       "    <tr>\n",
       "      <th>16</th>\n",
       "      <td>1978</td>\n",
       "      <td>3.32</td>\n",
       "      <td>-</td>\n",
       "      <td>-</td>\n",
       "      <td>3.32</td>\n",
       "      <td>-</td>\n",
       "      <td>0</td>\n",
       "      <td>1.00</td>\n",
       "    </tr>\n",
       "    <tr>\n",
       "      <th>17</th>\n",
       "      <td>1979</td>\n",
       "      <td>-7.39</td>\n",
       "      <td>-</td>\n",
       "      <td>-</td>\n",
       "      <td>-7.39</td>\n",
       "      <td>-</td>\n",
       "      <td>0</td>\n",
       "      <td>1.00</td>\n",
       "    </tr>\n",
       "    <tr>\n",
       "      <th>18</th>\n",
       "      <td>1980</td>\n",
       "      <td>4.30</td>\n",
       "      <td>-</td>\n",
       "      <td>-</td>\n",
       "      <td>4.30</td>\n",
       "      <td>-</td>\n",
       "      <td>0</td>\n",
       "      <td>1.00</td>\n",
       "    </tr>\n",
       "    <tr>\n",
       "      <th>19</th>\n",
       "      <td>1981</td>\n",
       "      <td>3.57</td>\n",
       "      <td>-</td>\n",
       "      <td>-</td>\n",
       "      <td>3.57</td>\n",
       "      <td>-</td>\n",
       "      <td>0</td>\n",
       "      <td>1.00</td>\n",
       "    </tr>\n",
       "  </tbody>\n",
       "</table>\n",
       "</div>"
      ],
      "text/plain": [
       "    Year   GDP    BOOM   NORMAL     RECN     CNT        CNT  CNT .1\n",
       "0    NaN    NaN     NaN      NaN      NaN   BOOM    NORMAL    RECN \n",
       "1   1963   3.84    -        -       3.84     -            0   1.00 \n",
       "2   1964   5.25    -       5.25      -       -            1    -   \n",
       "3   1965  -4.64    -        -      -4.64     -            0   1.00 \n",
       "4   1966  -2.12    -        -      -2.12     -            0   1.00 \n",
       "5   1967   5.59    -       5.59      -       -            1    -   \n",
       "6   1968   1.23    -        -       1.23     -            0   1.00 \n",
       "7   1969   4.27    -        -       4.27     -            0   1.00 \n",
       "8   1970   2.86    -        -       2.86     -            0   1.00 \n",
       "9   1971  -0.63    -        -      -0.63     -            0   1.00 \n",
       "10  1972  -2.82    -        -      -2.82     -            0   1.00 \n",
       "11  1973   0.92    -        -       0.92     -            0   1.00 \n",
       "12  1974  -1.15    -        -      -1.15     -            0   1.00 \n",
       "13  1975   6.64   6.64      -        -      1.00          0    -   \n",
       "14  1976  -0.65    -        -      -0.65     -            0   1.00 \n",
       "15  1977   4.83    -       4.83      -       -            1    -   \n",
       "16  1978   3.32    -        -       3.32     -            0   1.00 \n",
       "17  1979  -7.39    -        -      -7.39     -            0   1.00 \n",
       "18  1980   4.30    -        -       4.30     -            0   1.00 \n",
       "19  1981   3.57    -        -       3.57     -            0   1.00 "
      ]
     },
     "execution_count": 20,
     "metadata": {},
     "output_type": "execute_result"
    }
   ],
   "source": [
    "#Expected ROR\n",
    "Probability_of_Occurance = pd.read_csv(r\"C:\\Users\\hp\\Documents\\scraped_data\\Probability_Distribution.csv\")\n",
    "Probability_of_Occurance.drop(Probability_of_Occurance.columns[Probability_of_Occurance.columns.str.contains('unnamed',case = False)],axis = 1, inplace = True)\n",
    "Probability_of_Occurance.head(20)\n"
   ]
  },
  {
   "cell_type": "code",
   "execution_count": 30,
   "metadata": {},
   "outputs": [
    {
     "name": "stdout",
     "output_type": "stream",
     "text": [
      "Expected Rate of return % : -3.8565240000000016\n"
     ]
    }
   ],
   "source": [
    "# We need values for three states of economy therefore lets pick years 2012 -Normal, 2013 - Recession, 2014 -Boom\n",
    "# Calculate EROR\n",
    "#As we can see Probability of occurance for Boom in 2014 is 25%\n",
    "#Probability of occurance for Normal State of economy in 2013 is 16.07%\n",
    "#Probability of occurance for Recession in 2012 is 58.93%\n",
    "EROR = 0.5893*(-13.85) + 0.1607*(17.83) + 0.2500*(5.76)\n",
    "print('Expected Rate of return % :',EROR)\n",
    "\n",
    " "
   ]
  },
  {
   "cell_type": "code",
   "execution_count": 28,
   "metadata": {},
   "outputs": [],
   "source": [
    "#Standard Deviation = pi(Ri -E(R^2))^2\n",
    "\n",
    "def variance(p,R):\n",
    "    piri_EROR = p*(R)\n",
    "    sub = R - piri_EROR\n",
    "    sub_sq = (sub)*(sub)\n",
    "    std_deviation_calc = p*(sub_sq)\n",
    "    return std_deviation_calc"
   ]
  },
  {
   "cell_type": "code",
   "execution_count": 29,
   "metadata": {},
   "outputs": [
    {
     "name": "stdout",
     "output_type": "stream",
     "text": [
      "Variance_Boom: 19.067132897584123\n",
      "Variance_Normal: 35.98761033015803\n",
      "Variance_Recession: 4.6656\n",
      "Standard Dev: % 7.727893841645481\n"
     ]
    }
   ],
   "source": [
    "import math\n",
    "Variance_Boom = variance(0.5893, -13.85)\n",
    "print('Variance_Boom:', Variance_Boom)\n",
    "Variance_Normal = variance(0.1607, 17.83 )\n",
    "print('Variance_Normal:',Variance_Normal)\n",
    "Variance_Recession = variance(0.25, 5.76)\n",
    "print('Variance_Recession:',Variance_Recession)\n",
    "sum = Variance_Boom + Variance_Normal + Variance_Recession\n",
    "Standard_Dev = math.sqrt(sum)\n",
    "print('Standard Dev: %' ,Standard_Dev)\n",
    "\n"
   ]
  },
  {
   "cell_type": "markdown",
   "metadata": {},
   "source": [
    "**ALL THE ABOVE STEPS ARE PERFORMED FOR stock 2 i.e. Reliance industries LTD "
   ]
  },
  {
   "cell_type": "code",
   "execution_count": 22,
   "metadata": {},
   "outputs": [],
   "source": [
    "#FOR RELIANCE INDUSTRIES\n",
    "get_df_REL, get_Dict_REL = Connect_to_page(my_url = 'https://www.screener.in/company/RELIANCE/consolidated/#chart')"
   ]
  },
  {
   "cell_type": "code",
   "execution_count": 161,
   "metadata": {},
   "outputs": [
    {
     "data": {
      "text/html": [
       "<div>\n",
       "<style scoped>\n",
       "    .dataframe tbody tr th:only-of-type {\n",
       "        vertical-align: middle;\n",
       "    }\n",
       "\n",
       "    .dataframe tbody tr th {\n",
       "        vertical-align: top;\n",
       "    }\n",
       "\n",
       "    .dataframe thead th {\n",
       "        text-align: right;\n",
       "    }\n",
       "</style>\n",
       "<table border=\"1\" class=\"dataframe\">\n",
       "  <thead>\n",
       "    <tr style=\"text-align: right;\">\n",
       "      <th></th>\n",
       "      <th>Price</th>\n",
       "    </tr>\n",
       "  </thead>\n",
       "  <tbody>\n",
       "    <tr>\n",
       "      <th>21 Aug 20</th>\n",
       "      <td>2104.07</td>\n",
       "    </tr>\n",
       "    <tr>\n",
       "      <th>10 Jul 20</th>\n",
       "      <td>1835.11</td>\n",
       "    </tr>\n",
       "    <tr>\n",
       "      <th>22 May 20</th>\n",
       "      <td>1431.23</td>\n",
       "    </tr>\n",
       "    <tr>\n",
       "      <th>27 Mar 20</th>\n",
       "      <td>998.83</td>\n",
       "    </tr>\n",
       "    <tr>\n",
       "      <th>01 Feb 20</th>\n",
       "      <td>1435.87</td>\n",
       "    </tr>\n",
       "  </tbody>\n",
       "</table>\n",
       "</div>"
      ],
      "text/plain": [
       "             Price\n",
       "21 Aug 20  2104.07\n",
       "10 Jul 20  1835.11\n",
       "22 May 20  1431.23\n",
       "27 Mar 20   998.83\n",
       "01 Feb 20  1435.87"
      ]
     },
     "execution_count": 161,
     "metadata": {},
     "output_type": "execute_result"
    }
   ],
   "source": [
    "get_df_REL.head()"
   ]
  },
  {
   "cell_type": "code",
   "execution_count": 162,
   "metadata": {},
   "outputs": [
    {
     "name": "stdout",
     "output_type": "stream",
     "text": [
      "{'21 Aug 20': '2104.07', '10 Jul 20': '1835.11', '22 May 20': '1431.23', '27 Mar 20': '998.83', '01 Feb 20': '1435.87', '13 Dec 19': '1554.87', '18 Oct 19': '1368.50', '23 Aug 19': '1260.47', '05 Jul 19': '1263.48', '10 May 19': '1294.82', '22 Mar 19': '1348.17', '25 Jan 19': '1226.89', '30 Nov 18': '1134.58', '12 Oct 18': '1092.82', '17 Aug 18': '1189.44', '22 Jun 18': '1005.53', '04 May 18': '953.85', '09 Mar 18': '901.31', '12 Jan 18': '930.89', '24 Nov 17': '927.66', '29 Sep 17': '794.11', '11 Aug 17': '787.37', '16 Jun 17': '670.06', '21 Apr 17': '683.81', '03 Mar 17': '614.85', '06 Jan 17': '534.34', '11 Nov 16': '497.43', '23 Sep 16': '536.97', '29 Jul 16': '505.33', '03 Jun 16': '475.10', '13 Apr 16': '520.69', '19 Feb 16': '467.01', '01 Jan 16': '501.28', '06 Nov 15': '472.26', '11 Sep 15': '424.36', '24 Jul 15': '510.49', '29 May 15': '437.58', '01 Apr 15': '408.26', '13 Feb 15': '446.37', '19 Dec 14': '435.23', '31 Oct 14': '476.17', '05 Sep 14': '507.27', '11 Jul 14': '494.01', '23 May 14': '545.49', '28 Mar 14': '445.06', '31 Jan 14': '414.15', '13 Dec 13': '434.00', '18 Oct 13': '436.38', '23 Aug 13': '401.67', '05 Jul 13': '430.95', '11 May 13': '406.53', '22 Mar 13': '406.67', '25 Jan 13': '454.77', '30 Nov 12': '390.36', '12 Oct 12': '405.12', '17 Aug 12': '398.72', '22 Jun 12': '358.95', '04 May 12': '365.78', '09 Mar 12': '385.06', '13 Jan 12': '362.51', '25 Nov 11': '384.55', '30 Sep 11': '393.24', '12 Aug 11': '381.57', '17 Jun 11': '445.16', '21 Apr 11': '506.12', '04 Mar 11': '484.50', '07 Jan 11': '530.92', '12 Nov 10': '541.31', '24 Sep 10': '504.81', '30 Jul 10': '509.93', '04 Jun 10': '508.10', '16 Apr 10': '547.71', '19 Feb 10': '499.40', '31 Dec 09': '536.07', '06 Nov 09': '472.89', '11 Sep 09': '521.82', '24 Jul 09': '499.57', '29 May 09': '545.65', '02 Apr 09': '389.05'}\n"
     ]
    }
   ],
   "source": [
    "print(get_Dict_REL)"
   ]
  },
  {
   "cell_type": "code",
   "execution_count": 163,
   "metadata": {},
   "outputs": [
    {
     "data": {
      "text/html": [
       "<div>\n",
       "<style scoped>\n",
       "    .dataframe tbody tr th:only-of-type {\n",
       "        vertical-align: middle;\n",
       "    }\n",
       "\n",
       "    .dataframe tbody tr th {\n",
       "        vertical-align: top;\n",
       "    }\n",
       "\n",
       "    .dataframe thead th {\n",
       "        text-align: right;\n",
       "    }\n",
       "</style>\n",
       "<table border=\"1\" class=\"dataframe\">\n",
       "  <thead>\n",
       "    <tr style=\"text-align: right;\">\n",
       "      <th></th>\n",
       "      <th>Price</th>\n",
       "    </tr>\n",
       "    <tr>\n",
       "      <th>Months</th>\n",
       "      <th></th>\n",
       "    </tr>\n",
       "  </thead>\n",
       "  <tbody>\n",
       "    <tr>\n",
       "      <th>2020-08-21</th>\n",
       "      <td>2104.07</td>\n",
       "    </tr>\n",
       "    <tr>\n",
       "      <th>2020-07-10</th>\n",
       "      <td>1835.11</td>\n",
       "    </tr>\n",
       "    <tr>\n",
       "      <th>2020-05-22</th>\n",
       "      <td>1431.23</td>\n",
       "    </tr>\n",
       "    <tr>\n",
       "      <th>2020-03-27</th>\n",
       "      <td>998.83</td>\n",
       "    </tr>\n",
       "    <tr>\n",
       "      <th>2020-02-01</th>\n",
       "      <td>1435.87</td>\n",
       "    </tr>\n",
       "    <tr>\n",
       "      <th>...</th>\n",
       "      <td>...</td>\n",
       "    </tr>\n",
       "    <tr>\n",
       "      <th>2009-11-06</th>\n",
       "      <td>472.89</td>\n",
       "    </tr>\n",
       "    <tr>\n",
       "      <th>2009-09-11</th>\n",
       "      <td>521.82</td>\n",
       "    </tr>\n",
       "    <tr>\n",
       "      <th>2009-07-24</th>\n",
       "      <td>499.57</td>\n",
       "    </tr>\n",
       "    <tr>\n",
       "      <th>2009-05-29</th>\n",
       "      <td>545.65</td>\n",
       "    </tr>\n",
       "    <tr>\n",
       "      <th>2009-04-02</th>\n",
       "      <td>389.05</td>\n",
       "    </tr>\n",
       "  </tbody>\n",
       "</table>\n",
       "<p>79 rows × 1 columns</p>\n",
       "</div>"
      ],
      "text/plain": [
       "              Price\n",
       "Months             \n",
       "2020-08-21  2104.07\n",
       "2020-07-10  1835.11\n",
       "2020-05-22  1431.23\n",
       "2020-03-27   998.83\n",
       "2020-02-01  1435.87\n",
       "...             ...\n",
       "2009-11-06   472.89\n",
       "2009-09-11   521.82\n",
       "2009-07-24   499.57\n",
       "2009-05-29   545.65\n",
       "2009-04-02   389.05\n",
       "\n",
       "[79 rows x 1 columns]"
      ]
     },
     "execution_count": 163,
     "metadata": {},
     "output_type": "execute_result"
    }
   ],
   "source": [
    "\"\"\"\"\n",
    "df1 = pd.DataFrame(list(get_Dict_REL.items()),columns = ['Months','Price']) \n",
    "#df = pd.DataFrame(Dict,columns = ['Months','Price']) \n",
    "df1['Months']=pd.to_datetime(df1['Months'])\n",
    "df1.set_index('Months', inplace=True)\n",
    "#df['Months'] = df[\"Months\"].dt.strftime(\"%Y\")\n",
    "df1.head(100)\n",
    "\"\"\"\""
   ]
  },
  {
   "cell_type": "markdown",
   "metadata": {},
   "source": [
    "**NOTE** Since running the scraping function again and again takes long I have saved the data in a CSV file and loaded it.\n",
    " To understand how the scraping function works I insist to run the cells above this."
   ]
  },
  {
   "cell_type": "code",
   "execution_count": 31,
   "metadata": {},
   "outputs": [
    {
     "data": {
      "text/html": [
       "<div>\n",
       "<style scoped>\n",
       "    .dataframe tbody tr th:only-of-type {\n",
       "        vertical-align: middle;\n",
       "    }\n",
       "\n",
       "    .dataframe tbody tr th {\n",
       "        vertical-align: top;\n",
       "    }\n",
       "\n",
       "    .dataframe thead th {\n",
       "        text-align: right;\n",
       "    }\n",
       "</style>\n",
       "<table border=\"1\" class=\"dataframe\">\n",
       "  <thead>\n",
       "    <tr style=\"text-align: right;\">\n",
       "      <th></th>\n",
       "      <th>Price</th>\n",
       "    </tr>\n",
       "    <tr>\n",
       "      <th>Months</th>\n",
       "      <th></th>\n",
       "    </tr>\n",
       "  </thead>\n",
       "  <tbody>\n",
       "    <tr>\n",
       "      <th>2020-08-21</th>\n",
       "      <td>2104.07</td>\n",
       "    </tr>\n",
       "    <tr>\n",
       "      <th>2020-07-10</th>\n",
       "      <td>1835.11</td>\n",
       "    </tr>\n",
       "    <tr>\n",
       "      <th>2020-05-22</th>\n",
       "      <td>1431.23</td>\n",
       "    </tr>\n",
       "    <tr>\n",
       "      <th>2020-03-27</th>\n",
       "      <td>998.83</td>\n",
       "    </tr>\n",
       "    <tr>\n",
       "      <th>2020-02-01</th>\n",
       "      <td>1435.87</td>\n",
       "    </tr>\n",
       "  </tbody>\n",
       "</table>\n",
       "</div>"
      ],
      "text/plain": [
       "              Price\n",
       "Months             \n",
       "2020-08-21  2104.07\n",
       "2020-07-10  1835.11\n",
       "2020-05-22  1431.23\n",
       "2020-03-27   998.83\n",
       "2020-02-01  1435.87"
      ]
     },
     "execution_count": 31,
     "metadata": {},
     "output_type": "execute_result"
    }
   ],
   "source": [
    "df1 = pd.read_csv(r\"C:\\Users\\hp\\Documents\\scraped_data\\Stock_RELIANCE_2.csv\")\n",
    "\n",
    "df1['Months']=pd.to_datetime(df1['Months'])\n",
    "df1.set_index('Months', inplace=True)\n",
    "#df['Months'] = df[\"Months\"].dt.strftime(\"%Y\")\n",
    "df1.head()"
   ]
  },
  {
   "cell_type": "code",
   "execution_count": 32,
   "metadata": {},
   "outputs": [
    {
     "data": {
      "text/html": [
       "<div>\n",
       "<style scoped>\n",
       "    .dataframe tbody tr th:only-of-type {\n",
       "        vertical-align: middle;\n",
       "    }\n",
       "\n",
       "    .dataframe tbody tr th {\n",
       "        vertical-align: top;\n",
       "    }\n",
       "\n",
       "    .dataframe thead th {\n",
       "        text-align: right;\n",
       "    }\n",
       "</style>\n",
       "<table border=\"1\" class=\"dataframe\">\n",
       "  <thead>\n",
       "    <tr style=\"text-align: right;\">\n",
       "      <th></th>\n",
       "      <th>Months</th>\n",
       "      <th>Price</th>\n",
       "    </tr>\n",
       "  </thead>\n",
       "  <tbody>\n",
       "    <tr>\n",
       "      <th>25</th>\n",
       "      <td>2009</td>\n",
       "      <td>389.05</td>\n",
       "    </tr>\n",
       "    <tr>\n",
       "      <th>11</th>\n",
       "      <td>2010</td>\n",
       "      <td>499.40</td>\n",
       "    </tr>\n",
       "    <tr>\n",
       "      <th>19</th>\n",
       "      <td>2011</td>\n",
       "      <td>484.50</td>\n",
       "    </tr>\n",
       "    <tr>\n",
       "      <th>18</th>\n",
       "      <td>2012</td>\n",
       "      <td>385.06</td>\n",
       "    </tr>\n",
       "    <tr>\n",
       "      <th>17</th>\n",
       "      <td>2013</td>\n",
       "      <td>406.67</td>\n",
       "    </tr>\n",
       "  </tbody>\n",
       "</table>\n",
       "</div>"
      ],
      "text/plain": [
       "    Months   Price\n",
       "25    2009  389.05\n",
       "11    2010  499.40\n",
       "19    2011  484.50\n",
       "18    2012  385.06\n",
       "17    2013  406.67"
      ]
     },
     "execution_count": 32,
     "metadata": {},
     "output_type": "execute_result"
    }
   ],
   "source": [
    "Begining_Prices_REL =begin_prices(df1)\n",
    "Begining_Prices_REL.head()"
   ]
  },
  {
   "cell_type": "code",
   "execution_count": 33,
   "metadata": {},
   "outputs": [
    {
     "data": {
      "text/html": [
       "<div>\n",
       "<style scoped>\n",
       "    .dataframe tbody tr th:only-of-type {\n",
       "        vertical-align: middle;\n",
       "    }\n",
       "\n",
       "    .dataframe tbody tr th {\n",
       "        vertical-align: top;\n",
       "    }\n",
       "\n",
       "    .dataframe thead th {\n",
       "        text-align: right;\n",
       "    }\n",
       "</style>\n",
       "<table border=\"1\" class=\"dataframe\">\n",
       "  <thead>\n",
       "    <tr style=\"text-align: right;\">\n",
       "      <th></th>\n",
       "      <th>Months</th>\n",
       "      <th>Price</th>\n",
       "    </tr>\n",
       "  </thead>\n",
       "  <tbody>\n",
       "    <tr>\n",
       "      <th>3</th>\n",
       "      <td>2009</td>\n",
       "      <td>536.07</td>\n",
       "    </tr>\n",
       "    <tr>\n",
       "      <th>10</th>\n",
       "      <td>2010</td>\n",
       "      <td>541.31</td>\n",
       "    </tr>\n",
       "    <tr>\n",
       "      <th>9</th>\n",
       "      <td>2011</td>\n",
       "      <td>384.55</td>\n",
       "    </tr>\n",
       "    <tr>\n",
       "      <th>8</th>\n",
       "      <td>2012</td>\n",
       "      <td>390.36</td>\n",
       "    </tr>\n",
       "    <tr>\n",
       "      <th>2</th>\n",
       "      <td>2013</td>\n",
       "      <td>434.00</td>\n",
       "    </tr>\n",
       "  </tbody>\n",
       "</table>\n",
       "</div>"
      ],
      "text/plain": [
       "    Months   Price\n",
       "3     2009  536.07\n",
       "10    2010  541.31\n",
       "9     2011  384.55\n",
       "8     2012  390.36\n",
       "2     2013  434.00"
      ]
     },
     "execution_count": 33,
     "metadata": {},
     "output_type": "execute_result"
    }
   ],
   "source": [
    "Ending_Prices_REL = end_prices(df1)\n",
    "Ending_Prices_REL.head()"
   ]
  },
  {
   "cell_type": "code",
   "execution_count": 35,
   "metadata": {},
   "outputs": [],
   "source": [
    "#GET DIVIDEND VALUES\n",
    "get_REL_df, get_REL_dict_obj = Dividends('https://www.screener.in/company/RELIANCE/consolidated/#chart')"
   ]
  },
  {
   "cell_type": "code",
   "execution_count": 169,
   "metadata": {},
   "outputs": [],
   "source": [
    "get_REL_df.to_csv(r'C:\\Users\\hp\\Documents\\scraped_data\\Reliancetable_scrape2.csv')"
   ]
  },
  {
   "cell_type": "markdown",
   "metadata": {},
   "source": [
    "**NOTE** Since running the scraping function again and again takes long I have saved the data in a CSV file and loaded it.\n",
    " To understand how the scraping function works I insist to run the cells above this."
   ]
  },
  {
   "cell_type": "code",
   "execution_count": 36,
   "metadata": {},
   "outputs": [
    {
     "data": {
      "text/html": [
       "<div>\n",
       "<style scoped>\n",
       "    .dataframe tbody tr th:only-of-type {\n",
       "        vertical-align: middle;\n",
       "    }\n",
       "\n",
       "    .dataframe tbody tr th {\n",
       "        vertical-align: top;\n",
       "    }\n",
       "\n",
       "    .dataframe thead th {\n",
       "        text-align: right;\n",
       "    }\n",
       "</style>\n",
       "<table border=\"1\" class=\"dataframe\">\n",
       "  <thead>\n",
       "    <tr style=\"text-align: right;\">\n",
       "      <th></th>\n",
       "      <th>Months</th>\n",
       "      <th>Dividend_Payout %</th>\n",
       "    </tr>\n",
       "  </thead>\n",
       "  <tbody>\n",
       "    <tr>\n",
       "      <th>0</th>\n",
       "      <td>01-03-2009</td>\n",
       "      <td>12%</td>\n",
       "    </tr>\n",
       "    <tr>\n",
       "      <th>1</th>\n",
       "      <td>01-03-2010</td>\n",
       "      <td>9%</td>\n",
       "    </tr>\n",
       "    <tr>\n",
       "      <th>2</th>\n",
       "      <td>01-03-2011</td>\n",
       "      <td>12%</td>\n",
       "    </tr>\n",
       "    <tr>\n",
       "      <th>3</th>\n",
       "      <td>01-03-2012</td>\n",
       "      <td>13%</td>\n",
       "    </tr>\n",
       "    <tr>\n",
       "      <th>4</th>\n",
       "      <td>01-03-2013</td>\n",
       "      <td>13%</td>\n",
       "    </tr>\n",
       "  </tbody>\n",
       "</table>\n",
       "</div>"
      ],
      "text/plain": [
       "       Months Dividend_Payout %\n",
       "0  01-03-2009               12%\n",
       "1  01-03-2010                9%\n",
       "2  01-03-2011               12%\n",
       "3  01-03-2012               13%\n",
       "4  01-03-2013               13%"
      ]
     },
     "execution_count": 36,
     "metadata": {},
     "output_type": "execute_result"
    }
   ],
   "source": [
    "Dividend1 = pd.read_csv(r\"C:\\Users\\hp\\Documents\\scraped_data\\Reliancetable_scrape2.csv\")\n",
    "Dividend1.head()"
   ]
  },
  {
   "cell_type": "code",
   "execution_count": 37,
   "metadata": {},
   "outputs": [
    {
     "data": {
      "text/html": [
       "<div>\n",
       "<style scoped>\n",
       "    .dataframe tbody tr th:only-of-type {\n",
       "        vertical-align: middle;\n",
       "    }\n",
       "\n",
       "    .dataframe tbody tr th {\n",
       "        vertical-align: top;\n",
       "    }\n",
       "\n",
       "    .dataframe thead th {\n",
       "        text-align: right;\n",
       "    }\n",
       "</style>\n",
       "<table border=\"1\" class=\"dataframe\">\n",
       "  <thead>\n",
       "    <tr style=\"text-align: right;\">\n",
       "      <th></th>\n",
       "      <th>Months</th>\n",
       "      <th>Dividend_Payout %</th>\n",
       "    </tr>\n",
       "  </thead>\n",
       "  <tbody>\n",
       "    <tr>\n",
       "      <th>0</th>\n",
       "      <td>2009</td>\n",
       "      <td>0.60</td>\n",
       "    </tr>\n",
       "    <tr>\n",
       "      <th>1</th>\n",
       "      <td>2010</td>\n",
       "      <td>0.45</td>\n",
       "    </tr>\n",
       "    <tr>\n",
       "      <th>2</th>\n",
       "      <td>2011</td>\n",
       "      <td>0.60</td>\n",
       "    </tr>\n",
       "    <tr>\n",
       "      <th>3</th>\n",
       "      <td>2012</td>\n",
       "      <td>0.65</td>\n",
       "    </tr>\n",
       "    <tr>\n",
       "      <th>4</th>\n",
       "      <td>2013</td>\n",
       "      <td>0.65</td>\n",
       "    </tr>\n",
       "    <tr>\n",
       "      <th>5</th>\n",
       "      <td>2014</td>\n",
       "      <td>0.60</td>\n",
       "    </tr>\n",
       "    <tr>\n",
       "      <th>6</th>\n",
       "      <td>2015</td>\n",
       "      <td>0.60</td>\n",
       "    </tr>\n",
       "    <tr>\n",
       "      <th>7</th>\n",
       "      <td>2016</td>\n",
       "      <td>0.50</td>\n",
       "    </tr>\n",
       "    <tr>\n",
       "      <th>8</th>\n",
       "      <td>2017</td>\n",
       "      <td>0.55</td>\n",
       "    </tr>\n",
       "    <tr>\n",
       "      <th>9</th>\n",
       "      <td>2018</td>\n",
       "      <td>0.50</td>\n",
       "    </tr>\n",
       "    <tr>\n",
       "      <th>10</th>\n",
       "      <td>2019</td>\n",
       "      <td>0.50</td>\n",
       "    </tr>\n",
       "    <tr>\n",
       "      <th>11</th>\n",
       "      <td>2020</td>\n",
       "      <td>0.50</td>\n",
       "    </tr>\n",
       "  </tbody>\n",
       "</table>\n",
       "</div>"
      ],
      "text/plain": [
       "    Months  Dividend_Payout %\n",
       "0     2009               0.60\n",
       "1     2010               0.45\n",
       "2     2011               0.60\n",
       "3     2012               0.65\n",
       "4     2013               0.65\n",
       "5     2014               0.60\n",
       "6     2015               0.60\n",
       "7     2016               0.50\n",
       "8     2017               0.55\n",
       "9     2018               0.50\n",
       "10    2019               0.50\n",
       "11    2020               0.50"
      ]
     },
     "execution_count": 37,
     "metadata": {},
     "output_type": "execute_result"
    }
   ],
   "source": [
    "Dividend_Reliance = dividend_calc(Dividend1)\n",
    "Dividend_Reliance['Dividend_Payout %'].apply(pd.to_numeric, errors='coerce')\n",
    "Dividend_Reliance['Dividend_Payout %']= Dividend_Reliance['Dividend_Payout %']/100\n",
    "Dividend_Reliance['Dividend_Payout %']= Dividend_Reliance['Dividend_Payout %']*5\n",
    "#Dividend_Infy.head()\n",
    "\n",
    "Dividend_Reliance.head(100)"
   ]
  },
  {
   "cell_type": "code",
   "execution_count": 38,
   "metadata": {},
   "outputs": [
    {
     "data": {
      "text/plain": [
       "array([2009, 2010, 2011, 2012, 2013, 2014, 2015, 2016, 2017, 2018, 2019],\n",
       "      dtype=int64)"
      ]
     },
     "execution_count": 38,
     "metadata": {},
     "output_type": "execute_result"
    }
   ],
   "source": [
    "import numpy as np\n",
    "\n",
    "np.intersect1d(Dividend_Reliance.Months, np.intersect1d(Ending_Prices_REL.Months, Begining_Prices_REL.Months))\n"
   ]
  },
  {
   "cell_type": "code",
   "execution_count": 39,
   "metadata": {},
   "outputs": [
    {
     "data": {
      "text/html": [
       "<div>\n",
       "<style scoped>\n",
       "    .dataframe tbody tr th:only-of-type {\n",
       "        vertical-align: middle;\n",
       "    }\n",
       "\n",
       "    .dataframe tbody tr th {\n",
       "        vertical-align: top;\n",
       "    }\n",
       "\n",
       "    .dataframe thead th {\n",
       "        text-align: right;\n",
       "    }\n",
       "</style>\n",
       "<table border=\"1\" class=\"dataframe\">\n",
       "  <thead>\n",
       "    <tr style=\"text-align: right;\">\n",
       "      <th></th>\n",
       "      <th>Months</th>\n",
       "      <th>Price_x</th>\n",
       "      <th>Price_y</th>\n",
       "    </tr>\n",
       "  </thead>\n",
       "  <tbody>\n",
       "    <tr>\n",
       "      <th>0</th>\n",
       "      <td>2009</td>\n",
       "      <td>536.07</td>\n",
       "      <td>389.05</td>\n",
       "    </tr>\n",
       "    <tr>\n",
       "      <th>1</th>\n",
       "      <td>2010</td>\n",
       "      <td>541.31</td>\n",
       "      <td>499.40</td>\n",
       "    </tr>\n",
       "    <tr>\n",
       "      <th>2</th>\n",
       "      <td>2011</td>\n",
       "      <td>384.55</td>\n",
       "      <td>484.50</td>\n",
       "    </tr>\n",
       "    <tr>\n",
       "      <th>3</th>\n",
       "      <td>2012</td>\n",
       "      <td>390.36</td>\n",
       "      <td>385.06</td>\n",
       "    </tr>\n",
       "    <tr>\n",
       "      <th>4</th>\n",
       "      <td>2013</td>\n",
       "      <td>434.00</td>\n",
       "      <td>406.67</td>\n",
       "    </tr>\n",
       "    <tr>\n",
       "      <th>5</th>\n",
       "      <td>2014</td>\n",
       "      <td>435.23</td>\n",
       "      <td>414.15</td>\n",
       "    </tr>\n",
       "    <tr>\n",
       "      <th>6</th>\n",
       "      <td>2015</td>\n",
       "      <td>472.26</td>\n",
       "      <td>408.26</td>\n",
       "    </tr>\n",
       "    <tr>\n",
       "      <th>7</th>\n",
       "      <td>2016</td>\n",
       "      <td>497.43</td>\n",
       "      <td>467.01</td>\n",
       "    </tr>\n",
       "    <tr>\n",
       "      <th>8</th>\n",
       "      <td>2017</td>\n",
       "      <td>927.66</td>\n",
       "      <td>614.85</td>\n",
       "    </tr>\n",
       "    <tr>\n",
       "      <th>9</th>\n",
       "      <td>2018</td>\n",
       "      <td>1134.58</td>\n",
       "      <td>901.31</td>\n",
       "    </tr>\n",
       "    <tr>\n",
       "      <th>10</th>\n",
       "      <td>2019</td>\n",
       "      <td>1554.87</td>\n",
       "      <td>1226.89</td>\n",
       "    </tr>\n",
       "  </tbody>\n",
       "</table>\n",
       "</div>"
      ],
      "text/plain": [
       "    Months  Price_x  Price_y\n",
       "0     2009   536.07   389.05\n",
       "1     2010   541.31   499.40\n",
       "2     2011   384.55   484.50\n",
       "3     2012   390.36   385.06\n",
       "4     2013   434.00   406.67\n",
       "5     2014   435.23   414.15\n",
       "6     2015   472.26   408.26\n",
       "7     2016   497.43   467.01\n",
       "8     2017   927.66   614.85\n",
       "9     2018  1134.58   901.31\n",
       "10    2019  1554.87  1226.89"
      ]
     },
     "execution_count": 39,
     "metadata": {},
     "output_type": "execute_result"
    }
   ],
   "source": [
    "Ending_Prices_REL =Ending_Prices_REL.drop_duplicates()\n",
    "Begining_Prices_REL =Begining_Prices_REL.drop_duplicates()\n",
    "Final1 = pd.merge(Ending_Prices_REL, Begining_Prices_REL, on=\"Months\", how ='inner')\n",
    "Final1 = Final1.dropna()\n",
    "Final1.head(100)"
   ]
  },
  {
   "cell_type": "code",
   "execution_count": 40,
   "metadata": {},
   "outputs": [
    {
     "data": {
      "text/html": [
       "<div>\n",
       "<style scoped>\n",
       "    .dataframe tbody tr th:only-of-type {\n",
       "        vertical-align: middle;\n",
       "    }\n",
       "\n",
       "    .dataframe tbody tr th {\n",
       "        vertical-align: top;\n",
       "    }\n",
       "\n",
       "    .dataframe thead th {\n",
       "        text-align: right;\n",
       "    }\n",
       "</style>\n",
       "<table border=\"1\" class=\"dataframe\">\n",
       "  <thead>\n",
       "    <tr style=\"text-align: right;\">\n",
       "      <th></th>\n",
       "      <th>Months</th>\n",
       "      <th>End</th>\n",
       "      <th>Begin</th>\n",
       "    </tr>\n",
       "  </thead>\n",
       "  <tbody>\n",
       "    <tr>\n",
       "      <th>0</th>\n",
       "      <td>2009</td>\n",
       "      <td>536.07</td>\n",
       "      <td>389.05</td>\n",
       "    </tr>\n",
       "    <tr>\n",
       "      <th>1</th>\n",
       "      <td>2010</td>\n",
       "      <td>541.31</td>\n",
       "      <td>499.40</td>\n",
       "    </tr>\n",
       "    <tr>\n",
       "      <th>2</th>\n",
       "      <td>2011</td>\n",
       "      <td>384.55</td>\n",
       "      <td>484.50</td>\n",
       "    </tr>\n",
       "    <tr>\n",
       "      <th>3</th>\n",
       "      <td>2012</td>\n",
       "      <td>390.36</td>\n",
       "      <td>385.06</td>\n",
       "    </tr>\n",
       "    <tr>\n",
       "      <th>4</th>\n",
       "      <td>2013</td>\n",
       "      <td>434.00</td>\n",
       "      <td>406.67</td>\n",
       "    </tr>\n",
       "  </tbody>\n",
       "</table>\n",
       "</div>"
      ],
      "text/plain": [
       "   Months     End   Begin\n",
       "0    2009  536.07  389.05\n",
       "1    2010  541.31  499.40\n",
       "2    2011  384.55  484.50\n",
       "3    2012  390.36  385.06\n",
       "4    2013  434.00  406.67"
      ]
     },
     "execution_count": 40,
     "metadata": {},
     "output_type": "execute_result"
    }
   ],
   "source": [
    "Final1 = Final1.rename(columns={\"Price_y\": \"Begin\", \"Price_x\": \"End\"})\n",
    "Final1.head()"
   ]
  },
  {
   "cell_type": "code",
   "execution_count": 41,
   "metadata": {},
   "outputs": [],
   "source": [
    "#Dividend_Reliance= Dividend_Reliance.drop(Dividend_Reliance.index[[0,1,2,6,7,8,11]])\n",
    "#Dividend_Infy['Dividend_Payout %']=Dividend_Infy['Dividend_Payout %'].apply(pd.to_numeric, errors='coerce')\n",
    "#Dividend_Reliance.head(20)"
   ]
  },
  {
   "cell_type": "code",
   "execution_count": 42,
   "metadata": {},
   "outputs": [
    {
     "name": "stdout",
     "output_type": "stream",
     "text": [
      "    Years      End    Begin  Dividend_Payout(Rs)\n",
      "0    2009   536.07   389.05                 0.60\n",
      "1    2010   541.31   499.40                 0.45\n",
      "2    2011   384.55   484.50                 0.60\n",
      "3    2012   390.36   385.06                 0.65\n",
      "4    2013   434.00   406.67                 0.65\n",
      "5    2014   435.23   414.15                 0.60\n",
      "6    2015   472.26   408.26                 0.60\n",
      "7    2016   497.43   467.01                 0.50\n",
      "8    2017   927.66   614.85                 0.55\n",
      "9    2018  1134.58   901.31                 0.50\n",
      "10   2019  1554.87  1226.89                 0.50\n"
     ]
    }
   ],
   "source": [
    "Final_1REL = pd.merge(Final1, Dividend_Reliance, on ='Months')\n",
    "Final_1REL = Final_1REL.rename(columns={\"Dividend_Payout %\": \"Dividend_Payout(Rs)\", \"Months\": \"Years\"})\n",
    "print(Final_1REL)"
   ]
  },
  {
   "cell_type": "code",
   "execution_count": 43,
   "metadata": {},
   "outputs": [
    {
     "name": "stdout",
     "output_type": "stream",
     "text": [
      "Current_yield: [0.00154222 0.00090108 0.00123839 0.00168805 0.00159835 0.00144875\n",
      " 0.00146965 0.00107064 0.00089453 0.00055475 0.00040753]\n",
      "Capital Gain: [ 0.37789487  0.0839207  -0.20629515  0.01376409  0.06720437  0.05089943\n",
      "  0.15676285  0.06513779  0.50875823  0.25881217  0.26732633]\n",
      "     Returns\n",
      "0   0.379437\n",
      "1   0.084822\n",
      "2  -0.205057\n",
      "3   0.015452\n",
      "4   0.068803\n",
      "5   0.052348\n",
      "6   0.158232\n",
      "7   0.066208\n",
      "8   0.509653\n",
      "9   0.259367\n",
      "10  0.267734\n"
     ]
    }
   ],
   "source": [
    "#Calculate ROR for Reliance\n",
    "current_yield, capital_gain, ROR_REL = calculate_ROR(Final_1REL)"
   ]
  },
  {
   "cell_type": "code",
   "execution_count": 67,
   "metadata": {},
   "outputs": [
    {
     "name": "stdout",
     "output_type": "stream",
     "text": [
      "[0.3794370903482844, 0.08482178614337199, -0.2050567595459236, 0.015452137329247419, 0.06880271473184642, 0.05234818302547396, 0.15823249889776123, 0.0662084323676153, 0.5096527608359762, 0.25936692148095547, 0.2677338636715596]\n"
     ]
    }
   ],
   "source": [
    "RORS_REL = list(ROR_REL['Returns'])\n",
    "print(RORS_REL)"
   ]
  },
  {
   "cell_type": "code",
   "execution_count": 45,
   "metadata": {},
   "outputs": [
    {
     "name": "stdout",
     "output_type": "stream",
     "text": [
      "Expected Rate of return % : 3.2852840000000003\n"
     ]
    }
   ],
   "source": [
    "# Calculate EROR for Reliance\n",
    "EROR = 0.5893*(1.54) + 0.1607*(6.66) + 0.25*(5.23)\n",
    "print('Expected Rate of return % :',EROR)\n"
   ]
  },
  {
   "cell_type": "code",
   "execution_count": 46,
   "metadata": {},
   "outputs": [
    {
     "name": "stdout",
     "output_type": "stream",
     "text": [
      "0.23573674819122123\n",
      "5.0210989650190925\n",
      "3.8465015625000007\n",
      "Standard Dev: % 3.017173723157206\n"
     ]
    }
   ],
   "source": [
    "#Calculate Standard Deviation and variance for Reliance\n",
    "import math\n",
    "Variance_Boom = variance(0.5893, 1.54)\n",
    "print(Variance_Boom)\n",
    "Variance_Normal = variance(0.1607, 6.66  )\n",
    "print(Variance_Normal)\n",
    "Variance_Recession = variance(0.25, 5.23)\n",
    "print(Variance_Recession)\n",
    "sum = Variance_Boom + Variance_Normal + Variance_Recession\n",
    "Standard_Dev = math.sqrt(sum)\n",
    "print('Standard Dev: %' ,Standard_Dev)"
   ]
  },
  {
   "cell_type": "markdown",
   "metadata": {},
   "source": [
    "**CALCULATE EROR AND SD FOR PORTFOLIO\n",
    "Step 1 we have to calculate weights\n",
    "w1 = (RORinfy + RORreliance)/2  where probability of occurance = 0.58 IS CONSTANT FOR SAKE OF SIMPLICITY\n"
   ]
  },
  {
   "cell_type": "code",
   "execution_count": 47,
   "metadata": {},
   "outputs": [
    {
     "name": "stdout",
     "output_type": "stream",
     "text": [
      "19.62574362\n",
      "32.525895376799994\n",
      "3.3944666112\n",
      "Standard Dev INFY: % 7.452925976286092\n"
     ]
    }
   ],
   "source": [
    "# STANDARD DEVIATION(RISK) FOR INFY\n",
    "import math\n",
    "Variance_Boom = variance(0.58, -13.85)\n",
    "print(Variance_Boom)\n",
    "Variance_Normal = variance(0.58, 17.83  )\n",
    "print(Variance_Normal)\n",
    "Variance_Recession = variance(0.58, 5.76)\n",
    "print(Variance_Recession)\n",
    "sum = Variance_Boom + Variance_Normal + Variance_Recession\n",
    "Standard_Dev = math.sqrt(sum)\n",
    "print('Standard Dev INFY: %' ,Standard_Dev)"
   ]
  },
  {
   "cell_type": "code",
   "execution_count": 48,
   "metadata": {},
   "outputs": [
    {
     "name": "stdout",
     "output_type": "stream",
     "text": [
      "0.2426431392\n",
      "4.5381101472\n",
      "2.798529904800001\n",
      "Standard Dev REL: % 2.753049798169296\n"
     ]
    }
   ],
   "source": [
    "# STANDARD DEVIATION(RISK) FOR RELIANCE\n",
    "import math\n",
    "Variance_Boom = variance(0.58, 1.54)\n",
    "print(Variance_Boom)\n",
    "Variance_Normal = variance(0.58, 6.66 )\n",
    "print(Variance_Normal)\n",
    "Variance_Recession = variance(0.58, 5.23)\n",
    "print(Variance_Recession)\n",
    "sum = Variance_Boom + Variance_Normal + Variance_Recession\n",
    "Standard_Dev = math.sqrt(sum)\n",
    "print('Standard Dev REL: %' ,Standard_Dev)\n"
   ]
  },
  {
   "cell_type": "code",
   "execution_count": 49,
   "metadata": {},
   "outputs": [
    {
     "name": "stdout",
     "output_type": "stream",
     "text": [
      "-6.154999999999999\n",
      "12.245\n",
      "5.495\n"
     ]
    }
   ],
   "source": [
    "w1 = (1.54 + (-13.85))/2\n",
    "w2 = (6.66 + 17.83)/2\n",
    "w3 = (5.23 + 5.76)/2\n",
    "print(w1)\n",
    "print(w2)\n",
    "print(w3)      "
   ]
  },
  {
   "cell_type": "code",
   "execution_count": 83,
   "metadata": {},
   "outputs": [
    {
     "name": "stdout",
     "output_type": "stream",
     "text": [
      "EROR_PORFOLIO %: 6.7193000000000005\n"
     ]
    }
   ],
   "source": [
    "# NOW EXPECTED RATE OF RETURN OF PORTFOLIO\n",
    "EROR_PORFOLIO = 0.58*(w1) + 0.58*(w2) + 0.58*(w3)\n",
    "print('EROR_PORFOLIO %:',EROR_PORFOLIO)"
   ]
  },
  {
   "cell_type": "code",
   "execution_count": 50,
   "metadata": {},
   "outputs": [
    {
     "name": "stdout",
     "output_type": "stream",
     "text": [
      "3.8696956200000003\n",
      "15.328138291200002\n",
      "3.083693911200001\n",
      "Standard Dev Portfolio: % 4.720331325489769\n"
     ]
    }
   ],
   "source": [
    "import math\n",
    "Variance_Boom = variance(0.58, -6.15)\n",
    "print(Variance_Boom)\n",
    "Variance_Normal = variance(0.58, 12.24 )\n",
    "print(Variance_Normal)\n",
    "Variance_Recession = variance(0.58, 5.49)\n",
    "print(Variance_Recession)\n",
    "sum = Variance_Boom + Variance_Normal + Variance_Recession\n",
    "Standard_Dev = math.sqrt(sum)\n",
    "print('Standard Dev Portfolio: %' ,Standard_Dev)"
   ]
  },
  {
   "cell_type": "code",
   "execution_count": 53,
   "metadata": {},
   "outputs": [
    {
     "data": {
      "text/html": [
       "<div>\n",
       "<style scoped>\n",
       "    .dataframe tbody tr th:only-of-type {\n",
       "        vertical-align: middle;\n",
       "    }\n",
       "\n",
       "    .dataframe tbody tr th {\n",
       "        vertical-align: top;\n",
       "    }\n",
       "\n",
       "    .dataframe thead th {\n",
       "        text-align: right;\n",
       "    }\n",
       "</style>\n",
       "<table border=\"1\" class=\"dataframe\">\n",
       "  <thead>\n",
       "    <tr style=\"text-align: right;\">\n",
       "      <th></th>\n",
       "      <th>Years</th>\n",
       "      <th>GDP</th>\n",
       "      <th>State of Economy</th>\n",
       "      <th>Probability of Occurance</th>\n",
       "    </tr>\n",
       "  </thead>\n",
       "  <tbody>\n",
       "    <tr>\n",
       "      <th>0</th>\n",
       "      <td>2009</td>\n",
       "      <td>6.35</td>\n",
       "      <td>Boom</td>\n",
       "      <td>0.2500</td>\n",
       "    </tr>\n",
       "    <tr>\n",
       "      <th>1</th>\n",
       "      <td>2010</td>\n",
       "      <td>7.04</td>\n",
       "      <td>Boom</td>\n",
       "      <td>0.2500</td>\n",
       "    </tr>\n",
       "    <tr>\n",
       "      <th>2</th>\n",
       "      <td>2011</td>\n",
       "      <td>3.89</td>\n",
       "      <td>Recession</td>\n",
       "      <td>0.5893</td>\n",
       "    </tr>\n",
       "    <tr>\n",
       "      <th>3</th>\n",
       "      <td>2012</td>\n",
       "      <td>4.17</td>\n",
       "      <td>Recession</td>\n",
       "      <td>0.5893</td>\n",
       "    </tr>\n",
       "    <tr>\n",
       "      <th>4</th>\n",
       "      <td>2013</td>\n",
       "      <td>5.13</td>\n",
       "      <td>Normal</td>\n",
       "      <td>0.1607</td>\n",
       "    </tr>\n",
       "  </tbody>\n",
       "</table>\n",
       "</div>"
      ],
      "text/plain": [
       "   Years   GDP State of Economy  Probability of Occurance\n",
       "0   2009  6.35             Boom                    0.2500\n",
       "1   2010  7.04             Boom                    0.2500\n",
       "2   2011  3.89        Recession                    0.5893\n",
       "3   2012  4.17        Recession                    0.5893\n",
       "4   2013  5.13           Normal                    0.1607"
      ]
     },
     "execution_count": 53,
     "metadata": {},
     "output_type": "execute_result"
    }
   ],
   "source": [
    "\n",
    "# Using the Probability Distribution csv file I have prepared a consolidated sheet including GDPS corresponding\n",
    "#to respective years\n",
    "GDP_PLOT = pd.read_csv(r\"C:\\Users\\hp\\Documents\\scraped_data\\Consolidated_Sheet.csv\")\n",
    "GDP_PLOT.head()"
   ]
  },
  {
   "cell_type": "code",
   "execution_count": 54,
   "metadata": {},
   "outputs": [
    {
     "name": "stdout",
     "output_type": "stream",
     "text": [
      "[6.35, 7.04, 3.89, 4.17, 5.13, 6.19, 6.8, 7.0, 6.04, 5.71]\n",
      "[2009, 2010, 2011, 2012, 2013, 2014, 2015, 2016, 2017, 2018]\n"
     ]
    }
   ],
   "source": [
    "YEARS = list(GDP_PLOT['Years'])\n",
    "GDPs = list(GDP_PLOT['GDP'])\n",
    "print(GDPs)\n",
    "print(YEARS)"
   ]
  },
  {
   "cell_type": "markdown",
   "metadata": {},
   "source": [
    "**Visualizations**"
   ]
  },
  {
   "cell_type": "code",
   "execution_count": 57,
   "metadata": {},
   "outputs": [
    {
     "data": {
      "image/png": "[encoded data removed]",
      "text/plain": [
       "<Figure size 432x288 with 1 Axes>"
      ]
     },
     "metadata": {
      "needs_background": "light"
     },
     "output_type": "display_data"
    }
   ],
   "source": [
    "#Plot ROR VS STATE OF ECONOMY \n",
    "\n",
    "data = {'gdp':  GDPs,\n",
    "        'years': YEARS}\n",
    "\n",
    "df_data = pd.DataFrame (data, columns = ['gdp', 'years'])\n",
    "plt.scatter(df_data[\"years\"], df_data[\"gdp\"])\n",
    "\n",
    "plt.xlabel(\"Years\")\n",
    "plt.ylabel(\"GDPs\");"
   ]
  },
  {
   "cell_type": "code",
   "execution_count": 72,
   "metadata": {
    "scrolled": false
   },
   "outputs": [
    {
     "data": {
      "image/png": "[encoded data removed]",
      "text/plain": [
       "<Figure size 432x288 with 1 Axes>"
      ]
     },
     "metadata": {
      "needs_background": "light"
     },
     "output_type": "display_data"
    }
   ],
   "source": [
    "#PLOT PROBABILITIES OF OCCURANCE\n",
    "YEARS = list(GDP_PLOT['Years'])\n",
    "Probability = list(GDP_PLOT['Probability of Occurance'])\n",
    "GDPs = list(GDP_PLOT['GDP'])\n",
    "plt.plot(YEARS, Probability)\n",
    "plt.plot(YEARS, GDPs)\n",
    "plt.legend([\"GDP\", \"Probability\"], loc =\"upper right\")\n",
    "plt.title('Probability Distribution')\n",
    "plt.xlabel('Year')\n",
    "\n",
    "plt.show()"
   ]
  },
  {
   "cell_type": "code",
   "execution_count": 62,
   "metadata": {},
   "outputs": [
    {
     "data": {
      "image/png": "[encoded data removed]",
      "text/plain": [
       "<Figure size 432x288 with 1 Axes>"
      ]
     },
     "metadata": {
      "needs_background": "light"
     },
     "output_type": "display_data"
    }
   ],
   "source": [
    "#PLOT RISK AND ERORS FOR INFY, RELIANCE, PORTFOLIO\n",
    "ERORS = [7.86, 6.38, 4.77]\n",
    "SDS = [19.55, 2.32, 6.61]\n",
    "STATE_OF_ECOS=[0.25, 0.1607, 0.5893]\n",
    "plt.scatter(ERORS, STATE_OF_ECOS)\n",
    "plt.scatter(SDS, STATE_OF_ECOS, color = 'green')\n",
    "plt.legend([\"ERORS\", \"SDS\"], loc =\"upper right\")\n",
    "#plt.plot(YEARS, Probability)\n",
    "plt.title('ERORS and Risk VS STATE OF ECO')\n",
    "plt.xlabel('STATE OF ECO')\n",
    "plt.ylabel('ERORS, Risk')\n",
    "plt.show()"
   ]
  },
  {
   "cell_type": "code",
   "execution_count": 68,
   "metadata": {},
   "outputs": [
    {
     "data": {
      "image/png": "[encoded data removed]",
      "text/plain": [
       "<Figure size 432x288 with 1 Axes>"
      ]
     },
     "metadata": {
      "needs_background": "light"
     },
     "output_type": "display_data"
    }
   ],
   "source": [
    "%matplotlib inline\n",
    "import matplotlib.pyplot as plt\n",
    "import numpy as np\n",
    "#Plot RORs for a couple of years for Infosys\n",
    "YEARS = list(Final_1['Years'])\n",
    "#RORS_INFY = list(ROR['Returns'])\n",
    "plt.plot(YEARS, RORS_REL)\n",
    "plt.plot(YEARS, RORS)\n",
    "plt.legend([\"REL\", \"INFY\"], loc =\"lower right\")\n",
    "plt.xlabel(\"YEARS(STATE OF ECONOMY)\")\n",
    "plt.ylabel(\"Rate of Returns \");\n",
    "\n"
   ]
  },
  {
   "cell_type": "code",
   "execution_count": 69,
   "metadata": {},
   "outputs": [
    {
     "data": {
      "text/plain": [
       "Text(0.5, 1.0, 'Reliance')"
      ]
     },
     "execution_count": 69,
     "metadata": {},
     "output_type": "execute_result"
    },
    {
     "data": {
      "image/png": "[encoded data removed]",
      "text/plain": [
       "<Figure size 432x288 with 1 Axes>"
      ]
     },
     "metadata": {
      "needs_background": "light"
     },
     "output_type": "display_data"
    }
   ],
   "source": [
    "# Histogram Distribution for Reliace over a period of 10 years\n",
    "%matplotlib inline\n",
    "import matplotlib.pyplot as plt\n",
    "import numpy as np\n",
    "\n",
    "#df1 = pd.DataFrame(list(get_Dict_REL.items()),columns = ['Months','Price'])\n",
    "#df1['Months']=df1['Months'].apply(pd.to_numeric, errors='coerce')\n",
    "df1['Price']=df1['Price'].apply(pd.to_numeric, errors='coerce')\n",
    "colors= ['red','green']\n",
    "df1.plot.hist(bins =30,  color =colors, alpha =0.5,).set_title('Reliance')"
   ]
  },
  {
   "cell_type": "code",
   "execution_count": 71,
   "metadata": {},
   "outputs": [
    {
     "data": {
      "text/plain": [
       "Text(0.5, 1.0, 'Infy')"
      ]
     },
     "execution_count": 71,
     "metadata": {},
     "output_type": "execute_result"
    },
    {
     "data": {
      "image/png": "[encoded data removed]",
      "text/plain": [
       "<Figure size 432x288 with 1 Axes>"
      ]
     },
     "metadata": {
      "needs_background": "light"
     },
     "output_type": "display_data"
    }
   ],
   "source": [
    "# Histogram Distribution for Infosys over a period of 10 years\n",
    "%matplotlib inline\n",
    "%matplotlib inline\n",
    "import matplotlib.pyplot as plt\n",
    "import numpy as np\n",
    "\n",
    "#df = pd.DataFrame(list(get_Dict.items()),columns = ['Months','Price'])\n",
    "#df['Months']=df['Months'].apply(pd.to_numeric, errors='coerce')\n",
    "df['Price']=df['Price'].apply(pd.to_numeric, errors='coerce')\n",
    "#df.plot.hist(bins=12, color ='red',alpha=0.5)\n",
    "colors= ['red','green']\n",
    "df.plot.hist(bins =30,  color = colors, alpha =0.5 ).set_title('Infy')\n"
   ]
  },
  {
   "cell_type": "markdown",
   "metadata": {},
   "source": [
    "**Inference**\n",
    "\n",
    "From the analysis we can infer that assuming constant state of economy\n",
    "Risk associated with Infosys stock is 7.4 that with Reliance is 2.7 and on portfolio is 4.7\n",
    "\n",
    "We can say that if an investor invests only in individual stock Infosys it becomes a risky proposition but if he invests in two or more his risk reduces(from 7.4 to 4.7 in this case). So instead of putting all eggs in one basket you invest in multilpe stocks in equal or varied proportion given the state of economy.\n",
    "\n",
    "To see the complete benifit of diversification on risk reduction economist suggest investing in minimum of 10 securities.( I have limited it to 2 for the scope of this notebook.)\n",
    "\n",
    "Studies have shown while diversification is beneficial excess of it is not. Beyond 10 stocks the effect of diversification reduces.\n",
    "\n",
    "It might not be always possible to invest in different stocks with equal proportions which have balancing rate of returns."
   ]
  }
 ],
 "metadata": {
  "kernelspec": {
   "display_name": "Python 3",
   "language": "python",
   "name": "python3"
  },
  "language_info": {
   "codemirror_mode": {
    "name": "ipython",
    "version": 3
   },
   "file_extension": ".py",
   "mimetype": "text/x-python",
   "name": "python",
   "nbconvert_exporter": "python",
   "pygments_lexer": "ipython3",
   "version": "3.7.6"
  }
 },
 "nbformat": 4,
 "nbformat_minor": 4
}
